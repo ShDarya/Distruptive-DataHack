{
 "cells": [
  {
   "cell_type": "code",
   "execution_count": 4,
   "id": "04136b9d-935a-405f-a290-64d33d453b58",
   "metadata": {
    "executionInfo": {
     "elapsed": 633,
     "status": "ok",
     "timestamp": 1713812819838,
     "user": {
      "displayName": "Ильяс Варшавский",
      "userId": "01979085533608609891"
     },
     "user_tz": -300
    },
    "id": "04136b9d-935a-405f-a290-64d33d453b58"
   },
   "outputs": [],
   "source": [
    "import pandas as pd\n",
    "import numpy as np\n",
    "import matplotlib.pyplot as plt\n",
    "import seaborn as sns"
   ]
  },
  {
   "cell_type": "code",
   "execution_count": 5,
   "id": "328e87fd-f324-41ef-bb88-9b2cf67d5143",
   "metadata": {
    "colab": {
     "base_uri": "https://localhost:8080/",
     "height": 35
    },
    "executionInfo": {
     "elapsed": 18,
     "status": "ok",
     "timestamp": 1713812832002,
     "user": {
      "displayName": "Ильяс Варшавский",
      "userId": "01979085533608609891"
     },
     "user_tz": -300
    },
    "id": "328e87fd-f324-41ef-bb88-9b2cf67d5143",
    "outputId": "b49cdda3-849a-40d8-af62-7affc8d48c67"
   },
   "outputs": [
    {
     "data": {
      "text/plain": [
       "'3.8.11'"
      ]
     },
     "execution_count": 5,
     "metadata": {},
     "output_type": "execute_result"
    }
   ],
   "source": [
    "from platform import python_version\n",
    "python_version()"
   ]
  },
  {
   "cell_type": "code",
   "execution_count": 6,
   "id": "753db335-4079-477a-8f24-2adeca7129bb",
   "metadata": {
    "colab": {
     "base_uri": "https://localhost:8080/"
    },
    "executionInfo": {
     "elapsed": 18,
     "status": "ok",
     "timestamp": 1713812832003,
     "user": {
      "displayName": "Ильяс Варшавский",
      "userId": "01979085533608609891"
     },
     "user_tz": -300
    },
    "id": "753db335-4079-477a-8f24-2adeca7129bb",
    "outputId": "10cf05df-c875-4034-d1d4-e4bf6f32662a"
   },
   "outputs": [
    {
     "name": "stdout",
     "output_type": "stream",
     "text": [
      "1.12.1\n"
     ]
    }
   ],
   "source": [
    "import sdv\n",
    "print(sdv.version.public)"
   ]
  },
  {
   "cell_type": "code",
   "execution_count": 7,
   "id": "8bcaa6b9-1d20-40a1-b927-900a63480957",
   "metadata": {
    "executionInfo": {
     "elapsed": 16,
     "status": "ok",
     "timestamp": 1713812832003,
     "user": {
      "displayName": "Ильяс Варшавский",
      "userId": "01979085533608609891"
     },
     "user_tz": -300
    },
    "id": "8bcaa6b9-1d20-40a1-b927-900a63480957"
   },
   "outputs": [],
   "source": [
    "from ctgan import CTGAN"
   ]
  },
  {
   "cell_type": "markdown",
   "id": "44fc165a-c942-4a1b-aee9-aaa7d21954fc",
   "metadata": {
    "id": "44fc165a-c942-4a1b-aee9-aaa7d21954fc"
   },
   "source": [
    "# Первый набор"
   ]
  },
  {
   "cell_type": "code",
   "execution_count": 8,
   "id": "7c315438-fa57-462f-808f-ee8c70cb21b5",
   "metadata": {
    "executionInfo": {
     "elapsed": 16,
     "status": "ok",
     "timestamp": 1713812832003,
     "user": {
      "displayName": "Ильяс Варшавский",
      "userId": "01979085533608609891"
     },
     "user_tz": -300
    },
    "id": "7c315438-fa57-462f-808f-ee8c70cb21b5"
   },
   "outputs": [],
   "source": [
    "data_df = pd.read_csv(r'german_credit_data_target.csv', index_col=0)\n"
   ]
  },
  {
   "cell_type": "code",
   "execution_count": 9,
   "id": "98774f88-eeb5-4210-b074-af6db71e52b9",
   "metadata": {
    "colab": {
     "base_uri": "https://localhost:8080/",
     "height": 206
    },
    "executionInfo": {
     "elapsed": 15,
     "status": "ok",
     "timestamp": 1713812832003,
     "user": {
      "displayName": "Ильяс Варшавский",
      "userId": "01979085533608609891"
     },
     "user_tz": -300
    },
    "id": "98774f88-eeb5-4210-b074-af6db71e52b9",
    "outputId": "1fadaa38-3571-446d-efa0-85f2408fec06"
   },
   "outputs": [
    {
     "data": {
      "text/html": [
       "<div>\n",
       "<style scoped>\n",
       "    .dataframe tbody tr th:only-of-type {\n",
       "        vertical-align: middle;\n",
       "    }\n",
       "\n",
       "    .dataframe tbody tr th {\n",
       "        vertical-align: top;\n",
       "    }\n",
       "\n",
       "    .dataframe thead th {\n",
       "        text-align: right;\n",
       "    }\n",
       "</style>\n",
       "<table border=\"1\" class=\"dataframe\">\n",
       "  <thead>\n",
       "    <tr style=\"text-align: right;\">\n",
       "      <th></th>\n",
       "      <th>Age</th>\n",
       "      <th>Sex</th>\n",
       "      <th>Job</th>\n",
       "      <th>Housing</th>\n",
       "      <th>Saving accounts</th>\n",
       "      <th>Checking account</th>\n",
       "      <th>Credit amount</th>\n",
       "      <th>Duration</th>\n",
       "      <th>Purpose</th>\n",
       "      <th>Risk</th>\n",
       "    </tr>\n",
       "  </thead>\n",
       "  <tbody>\n",
       "    <tr>\n",
       "      <th>0</th>\n",
       "      <td>67</td>\n",
       "      <td>male</td>\n",
       "      <td>2</td>\n",
       "      <td>own</td>\n",
       "      <td>NaN</td>\n",
       "      <td>little</td>\n",
       "      <td>1169</td>\n",
       "      <td>6</td>\n",
       "      <td>radio/TV</td>\n",
       "      <td>good</td>\n",
       "    </tr>\n",
       "    <tr>\n",
       "      <th>1</th>\n",
       "      <td>22</td>\n",
       "      <td>female</td>\n",
       "      <td>2</td>\n",
       "      <td>own</td>\n",
       "      <td>little</td>\n",
       "      <td>moderate</td>\n",
       "      <td>5951</td>\n",
       "      <td>48</td>\n",
       "      <td>radio/TV</td>\n",
       "      <td>bad</td>\n",
       "    </tr>\n",
       "    <tr>\n",
       "      <th>2</th>\n",
       "      <td>49</td>\n",
       "      <td>male</td>\n",
       "      <td>1</td>\n",
       "      <td>own</td>\n",
       "      <td>little</td>\n",
       "      <td>NaN</td>\n",
       "      <td>2096</td>\n",
       "      <td>12</td>\n",
       "      <td>education</td>\n",
       "      <td>good</td>\n",
       "    </tr>\n",
       "    <tr>\n",
       "      <th>3</th>\n",
       "      <td>45</td>\n",
       "      <td>male</td>\n",
       "      <td>2</td>\n",
       "      <td>free</td>\n",
       "      <td>little</td>\n",
       "      <td>little</td>\n",
       "      <td>7882</td>\n",
       "      <td>42</td>\n",
       "      <td>furniture/equipment</td>\n",
       "      <td>good</td>\n",
       "    </tr>\n",
       "    <tr>\n",
       "      <th>4</th>\n",
       "      <td>53</td>\n",
       "      <td>male</td>\n",
       "      <td>2</td>\n",
       "      <td>free</td>\n",
       "      <td>little</td>\n",
       "      <td>little</td>\n",
       "      <td>4870</td>\n",
       "      <td>24</td>\n",
       "      <td>car</td>\n",
       "      <td>bad</td>\n",
       "    </tr>\n",
       "  </tbody>\n",
       "</table>\n",
       "</div>"
      ],
      "text/plain": [
       "   Age     Sex  Job Housing Saving accounts Checking account  Credit amount  \\\n",
       "0   67    male    2     own             NaN           little           1169   \n",
       "1   22  female    2     own          little         moderate           5951   \n",
       "2   49    male    1     own          little              NaN           2096   \n",
       "3   45    male    2    free          little           little           7882   \n",
       "4   53    male    2    free          little           little           4870   \n",
       "\n",
       "   Duration              Purpose  Risk  \n",
       "0         6             radio/TV  good  \n",
       "1        48             radio/TV   bad  \n",
       "2        12            education  good  \n",
       "3        42  furniture/equipment  good  \n",
       "4        24                  car   bad  "
      ]
     },
     "execution_count": 9,
     "metadata": {},
     "output_type": "execute_result"
    }
   ],
   "source": [
    "data_df.head()"
   ]
  },
  {
   "cell_type": "code",
   "execution_count": 10,
   "id": "cdb25412-1953-4fd7-a4b2-1968645c1bd2",
   "metadata": {
    "colab": {
     "base_uri": "https://localhost:8080/"
    },
    "executionInfo": {
     "elapsed": 14,
     "status": "ok",
     "timestamp": 1713812832003,
     "user": {
      "displayName": "Ильяс Варшавский",
      "userId": "01979085533608609891"
     },
     "user_tz": -300
    },
    "id": "cdb25412-1953-4fd7-a4b2-1968645c1bd2",
    "outputId": "92b8cafb-194b-4736-f567-7a8dd831de5b"
   },
   "outputs": [
    {
     "data": {
      "text/plain": [
       "(1000, 10)"
      ]
     },
     "execution_count": 10,
     "metadata": {},
     "output_type": "execute_result"
    }
   ],
   "source": [
    "data_df.shape"
   ]
  },
  {
   "cell_type": "code",
   "execution_count": 11,
   "id": "5c4f63b6-63bb-4863-827d-fdea1358dbd7",
   "metadata": {
    "colab": {
     "base_uri": "https://localhost:8080/"
    },
    "executionInfo": {
     "elapsed": 13,
     "status": "ok",
     "timestamp": 1713812832003,
     "user": {
      "displayName": "Ильяс Варшавский",
      "userId": "01979085533608609891"
     },
     "user_tz": -300
    },
    "id": "5c4f63b6-63bb-4863-827d-fdea1358dbd7",
    "outputId": "f57b755c-ab1c-404b-d6c0-8fd8bb8e1972"
   },
   "outputs": [
    {
     "data": {
      "text/plain": [
       "Age                  int64\n",
       "Sex                 object\n",
       "Job                  int64\n",
       "Housing             object\n",
       "Saving accounts     object\n",
       "Checking account    object\n",
       "Credit amount        int64\n",
       "Duration             int64\n",
       "Purpose             object\n",
       "Risk                object\n",
       "dtype: object"
      ]
     },
     "execution_count": 11,
     "metadata": {},
     "output_type": "execute_result"
    }
   ],
   "source": [
    "data_df.dtypes"
   ]
  },
  {
   "cell_type": "code",
   "execution_count": 12,
   "id": "df941c0d-007b-47cf-95e9-95db406bebd7",
   "metadata": {
    "executionInfo": {
     "elapsed": 12,
     "status": "ok",
     "timestamp": 1713812832003,
     "user": {
      "displayName": "Ильяс Варшавский",
      "userId": "01979085533608609891"
     },
     "user_tz": -300
    },
    "id": "df941c0d-007b-47cf-95e9-95db406bebd7"
   },
   "outputs": [],
   "source": [
    "from sdv.metadata import SingleTableMetadata\n",
    "\n",
    "metadata = SingleTableMetadata()"
   ]
  },
  {
   "cell_type": "code",
   "execution_count": 13,
   "id": "142b3a4c-4322-4c00-9750-02e15e452146",
   "metadata": {
    "executionInfo": {
     "elapsed": 11,
     "status": "ok",
     "timestamp": 1713812832003,
     "user": {
      "displayName": "Ильяс Варшавский",
      "userId": "01979085533608609891"
     },
     "user_tz": -300
    },
    "id": "142b3a4c-4322-4c00-9750-02e15e452146"
   },
   "outputs": [],
   "source": [
    "metadata.detect_from_dataframe(data_df)"
   ]
  },
  {
   "cell_type": "code",
   "execution_count": 14,
   "id": "c1f28d38-eeca-488c-aaca-45405298608d",
   "metadata": {
    "colab": {
     "base_uri": "https://localhost:8080/",
     "height": 244
    },
    "executionInfo": {
     "elapsed": 11,
     "status": "ok",
     "timestamp": 1713812832003,
     "user": {
      "displayName": "Ильяс Варшавский",
      "userId": "01979085533608609891"
     },
     "user_tz": -300
    },
    "id": "c1f28d38-eeca-488c-aaca-45405298608d",
    "outputId": "9d1c6703-fa24-4d4e-9af6-e2dd40b1b714"
   },
   "outputs": [
    {
     "data": {
      "image/svg+xml": [
       "<?xml version=\"1.0\" encoding=\"UTF-8\" standalone=\"no\"?>\n",
       "<!DOCTYPE svg PUBLIC \"-//W3C//DTD SVG 1.1//EN\"\n",
       " \"http://www.w3.org/Graphics/SVG/1.1/DTD/svg11.dtd\">\n",
       "<!-- Generated by graphviz version 2.50.0 (0)\n",
       " -->\n",
       "<!-- Title: Metadata Pages: 1 -->\n",
       "<svg width=\"193pt\" height=\"167pt\"\n",
       " viewBox=\"0.00 0.00 193.00 167.00\" xmlns=\"http://www.w3.org/2000/svg\" xmlns:xlink=\"http://www.w3.org/1999/xlink\">\n",
       "<g id=\"graph0\" class=\"graph\" transform=\"scale(1 1) rotate(0) translate(4 163)\">\n",
       "<title>Metadata</title>\n",
       "<polygon fill=\"white\" stroke=\"transparent\" points=\"-4,4 -4,-163 189,-163 189,4 -4,4\"/>\n",
       "<g id=\"node1\" class=\"node\">\n",
       "<title></title>\n",
       "<path fill=\"#ffec8b\" stroke=\"black\" d=\"M12,-0.5C12,-0.5 173,-0.5 173,-0.5 179,-0.5 185,-6.5 185,-12.5 185,-12.5 185,-146.5 185,-146.5 185,-152.5 179,-158.5 173,-158.5 173,-158.5 12,-158.5 12,-158.5 6,-158.5 0,-152.5 0,-146.5 0,-146.5 0,-12.5 0,-12.5 0,-6.5 6,-0.5 12,-0.5\"/>\n",
       "<text text-anchor=\"start\" x=\"8\" y=\"-143.3\" font-family=\"Times New Roman,serif\" font-size=\"14.00\">Age : numerical</text>\n",
       "<text text-anchor=\"start\" x=\"8\" y=\"-128.3\" font-family=\"Times New Roman,serif\" font-size=\"14.00\">Sex : categorical</text>\n",
       "<text text-anchor=\"start\" x=\"8\" y=\"-113.3\" font-family=\"Times New Roman,serif\" font-size=\"14.00\">Job : categorical</text>\n",
       "<text text-anchor=\"start\" x=\"8\" y=\"-98.3\" font-family=\"Times New Roman,serif\" font-size=\"14.00\">Housing : categorical</text>\n",
       "<text text-anchor=\"start\" x=\"8\" y=\"-83.3\" font-family=\"Times New Roman,serif\" font-size=\"14.00\">Saving accounts : categorical</text>\n",
       "<text text-anchor=\"start\" x=\"8\" y=\"-68.3\" font-family=\"Times New Roman,serif\" font-size=\"14.00\">Checking account : categorical</text>\n",
       "<text text-anchor=\"start\" x=\"8\" y=\"-53.3\" font-family=\"Times New Roman,serif\" font-size=\"14.00\">Credit amount : numerical</text>\n",
       "<text text-anchor=\"start\" x=\"8\" y=\"-38.3\" font-family=\"Times New Roman,serif\" font-size=\"14.00\">Duration : numerical</text>\n",
       "<text text-anchor=\"start\" x=\"8\" y=\"-23.3\" font-family=\"Times New Roman,serif\" font-size=\"14.00\">Purpose : categorical</text>\n",
       "<text text-anchor=\"start\" x=\"8\" y=\"-8.3\" font-family=\"Times New Roman,serif\" font-size=\"14.00\">Risk : categorical</text>\n",
       "</g>\n",
       "</g>\n",
       "</svg>\n"
      ],
      "text/plain": [
       "<graphviz.graphs.Digraph at 0x1cea2b9b130>"
      ]
     },
     "execution_count": 14,
     "metadata": {},
     "output_type": "execute_result"
    }
   ],
   "source": [
    "metadata.visualize(\n",
    "    show_table_details='full',\n",
    "    output_filepath='my_metadata.png'\n",
    ")"
   ]
  },
  {
   "cell_type": "code",
   "execution_count": 15,
   "id": "3c786ddb-27d3-46ba-bcbe-e2356b47e8d3",
   "metadata": {
    "executionInfo": {
     "elapsed": 11,
     "status": "ok",
     "timestamp": 1713812832003,
     "user": {
      "displayName": "Ильяс Варшавский",
      "userId": "01979085533608609891"
     },
     "user_tz": -300
    },
    "id": "3c786ddb-27d3-46ba-bcbe-e2356b47e8d3"
   },
   "outputs": [],
   "source": [
    "metadata.validate()"
   ]
  },
  {
   "cell_type": "code",
   "execution_count": 16,
   "id": "f1720334-41e4-429b-bcae-dca95eb78ca1",
   "metadata": {
    "colab": {
     "base_uri": "https://localhost:8080/"
    },
    "executionInfo": {
     "elapsed": 4117,
     "status": "ok",
     "timestamp": 1713812836109,
     "user": {
      "displayName": "Ильяс Варшавский",
      "userId": "01979085533608609891"
     },
     "user_tz": -300
    },
    "id": "f1720334-41e4-429b-bcae-dca95eb78ca1",
    "outputId": "cae75e93-5fe8-4473-da69-ee4cc51d45a7"
   },
   "outputs": [
    {
     "name": "stderr",
     "output_type": "stream",
     "text": [
      "C:\\Users\\darya\\anaconda3\\lib\\site-packages\\sdv\\single_table\\base.py:82: UserWarning: We strongly recommend saving the metadata using 'save_to_json' for replicability in future SDV versions.\n",
      "  warnings.warn(\n"
     ]
    }
   ],
   "source": [
    "from sdv.single_table import GaussianCopulaSynthesizer\n",
    "\n",
    "# Step 1: Create the synthesizer\n",
    "synthesizer = GaussianCopulaSynthesizer(metadata)\n",
    "\n",
    "# Step 2: Train the synthesizer\n",
    "synthesizer.fit(data_df)\n",
    "\n",
    "# Step 3: Generate synthetic data\n",
    "synthetic_data = synthesizer.sample(num_rows=data_df.shape[0]*100)"
   ]
  },
  {
   "cell_type": "code",
   "execution_count": 17,
   "id": "b3d8003b-da74-4414-8908-94322d9e7eb5",
   "metadata": {
    "colab": {
     "base_uri": "https://localhost:8080/"
    },
    "executionInfo": {
     "elapsed": 11,
     "status": "ok",
     "timestamp": 1713812836109,
     "user": {
      "displayName": "Ильяс Варшавский",
      "userId": "01979085533608609891"
     },
     "user_tz": -300
    },
    "id": "b3d8003b-da74-4414-8908-94322d9e7eb5",
    "outputId": "89cb5761-e9d3-445c-89ce-fd106dfbbb3c"
   },
   "outputs": [
    {
     "data": {
      "text/plain": [
       "(100000, 10)"
      ]
     },
     "execution_count": 17,
     "metadata": {},
     "output_type": "execute_result"
    }
   ],
   "source": [
    "synthetic_data.shape"
   ]
  },
  {
   "cell_type": "code",
   "execution_count": 18,
   "id": "871251d3-36a6-45c5-9ab3-dc62e3787720",
   "metadata": {
    "colab": {
     "base_uri": "https://localhost:8080/",
     "height": 206
    },
    "executionInfo": {
     "elapsed": 11,
     "status": "ok",
     "timestamp": 1713812836110,
     "user": {
      "displayName": "Ильяс Варшавский",
      "userId": "01979085533608609891"
     },
     "user_tz": -300
    },
    "id": "871251d3-36a6-45c5-9ab3-dc62e3787720",
    "outputId": "c9a7781e-1f20-4bd6-dca6-19fbaad273e8"
   },
   "outputs": [
    {
     "data": {
      "text/html": [
       "<div>\n",
       "<style scoped>\n",
       "    .dataframe tbody tr th:only-of-type {\n",
       "        vertical-align: middle;\n",
       "    }\n",
       "\n",
       "    .dataframe tbody tr th {\n",
       "        vertical-align: top;\n",
       "    }\n",
       "\n",
       "    .dataframe thead th {\n",
       "        text-align: right;\n",
       "    }\n",
       "</style>\n",
       "<table border=\"1\" class=\"dataframe\">\n",
       "  <thead>\n",
       "    <tr style=\"text-align: right;\">\n",
       "      <th></th>\n",
       "      <th>Age</th>\n",
       "      <th>Sex</th>\n",
       "      <th>Job</th>\n",
       "      <th>Housing</th>\n",
       "      <th>Saving accounts</th>\n",
       "      <th>Checking account</th>\n",
       "      <th>Credit amount</th>\n",
       "      <th>Duration</th>\n",
       "      <th>Purpose</th>\n",
       "      <th>Risk</th>\n",
       "    </tr>\n",
       "  </thead>\n",
       "  <tbody>\n",
       "    <tr>\n",
       "      <th>0</th>\n",
       "      <td>37</td>\n",
       "      <td>male</td>\n",
       "      <td>1</td>\n",
       "      <td>own</td>\n",
       "      <td>little</td>\n",
       "      <td>NaN</td>\n",
       "      <td>1652</td>\n",
       "      <td>9</td>\n",
       "      <td>car</td>\n",
       "      <td>good</td>\n",
       "    </tr>\n",
       "    <tr>\n",
       "      <th>1</th>\n",
       "      <td>63</td>\n",
       "      <td>male</td>\n",
       "      <td>3</td>\n",
       "      <td>own</td>\n",
       "      <td>NaN</td>\n",
       "      <td>NaN</td>\n",
       "      <td>2934</td>\n",
       "      <td>20</td>\n",
       "      <td>furniture/equipment</td>\n",
       "      <td>good</td>\n",
       "    </tr>\n",
       "    <tr>\n",
       "      <th>2</th>\n",
       "      <td>27</td>\n",
       "      <td>male</td>\n",
       "      <td>2</td>\n",
       "      <td>own</td>\n",
       "      <td>moderate</td>\n",
       "      <td>moderate</td>\n",
       "      <td>2009</td>\n",
       "      <td>34</td>\n",
       "      <td>business</td>\n",
       "      <td>good</td>\n",
       "    </tr>\n",
       "    <tr>\n",
       "      <th>3</th>\n",
       "      <td>45</td>\n",
       "      <td>female</td>\n",
       "      <td>1</td>\n",
       "      <td>own</td>\n",
       "      <td>moderate</td>\n",
       "      <td>NaN</td>\n",
       "      <td>5386</td>\n",
       "      <td>37</td>\n",
       "      <td>car</td>\n",
       "      <td>good</td>\n",
       "    </tr>\n",
       "    <tr>\n",
       "      <th>4</th>\n",
       "      <td>25</td>\n",
       "      <td>male</td>\n",
       "      <td>2</td>\n",
       "      <td>free</td>\n",
       "      <td>little</td>\n",
       "      <td>little</td>\n",
       "      <td>953</td>\n",
       "      <td>12</td>\n",
       "      <td>radio/TV</td>\n",
       "      <td>bad</td>\n",
       "    </tr>\n",
       "  </tbody>\n",
       "</table>\n",
       "</div>"
      ],
      "text/plain": [
       "   Age     Sex  Job Housing Saving accounts Checking account  Credit amount  \\\n",
       "0   37    male    1     own          little              NaN           1652   \n",
       "1   63    male    3     own             NaN              NaN           2934   \n",
       "2   27    male    2     own        moderate         moderate           2009   \n",
       "3   45  female    1     own        moderate              NaN           5386   \n",
       "4   25    male    2    free          little           little            953   \n",
       "\n",
       "   Duration              Purpose  Risk  \n",
       "0         9                  car  good  \n",
       "1        20  furniture/equipment  good  \n",
       "2        34             business  good  \n",
       "3        37                  car  good  \n",
       "4        12             radio/TV   bad  "
      ]
     },
     "execution_count": 18,
     "metadata": {},
     "output_type": "execute_result"
    }
   ],
   "source": [
    "synthetic_data[:5]"
   ]
  },
  {
   "cell_type": "code",
   "execution_count": 19,
   "id": "2edff745-90ce-43b0-9181-8a5c03fe5ada",
   "metadata": {
    "executionInfo": {
     "elapsed": 10,
     "status": "ok",
     "timestamp": 1713812836110,
     "user": {
      "displayName": "Ильяс Варшавский",
      "userId": "01979085533608609891"
     },
     "user_tz": -300
    },
    "id": "2edff745-90ce-43b0-9181-8a5c03fe5ada"
   },
   "outputs": [],
   "source": [
    "from sdv.evaluation.single_table import run_diagnostic, evaluate_quality\n",
    "from sdv.evaluation.single_table import get_column_plot"
   ]
  },
  {
   "cell_type": "code",
   "execution_count": 20,
   "id": "61fb5cbd-145a-44ee-9ecd-2eb9b70b157a",
   "metadata": {
    "colab": {
     "base_uri": "https://localhost:8080/"
    },
    "executionInfo": {
     "elapsed": 9,
     "status": "ok",
     "timestamp": 1713812836110,
     "user": {
      "displayName": "Ильяс Варшавский",
      "userId": "01979085533608609891"
     },
     "user_tz": -300
    },
    "id": "61fb5cbd-145a-44ee-9ecd-2eb9b70b157a",
    "outputId": "985f4786-45d3-46ad-c1ac-fd68dd117819"
   },
   "outputs": [
    {
     "name": "stdout",
     "output_type": "stream",
     "text": [
      "Generating report ...\n",
      "\n",
      "(1/2) Evaluating Data Validity: |██████████| 10/10 [00:00<00:00, 82.01it/s]|\n",
      "Data Validity Score: 100.0%\n",
      "\n",
      "(2/2) Evaluating Data Structure: |██████████| 1/1 [00:00<00:00, 125.06it/s]|\n",
      "Data Structure Score: 100.0%\n",
      "\n",
      "Overall Score (Average): 100.0%\n",
      "\n"
     ]
    }
   ],
   "source": [
    "# 1. perform basic validity checks\n",
    "diagnostic = run_diagnostic(data_df, synthetic_data, metadata)\n"
   ]
  },
  {
   "cell_type": "code",
   "execution_count": 21,
   "id": "2cb0ba38-62f2-4a8d-95ae-ea8c287a7c83",
   "metadata": {
    "colab": {
     "base_uri": "https://localhost:8080/"
    },
    "executionInfo": {
     "elapsed": 7419,
     "status": "ok",
     "timestamp": 1713812843523,
     "user": {
      "displayName": "Ильяс Варшавский",
      "userId": "01979085533608609891"
     },
     "user_tz": -300
    },
    "id": "2cb0ba38-62f2-4a8d-95ae-ea8c287a7c83",
    "outputId": "8648b4e6-87bf-4dc5-8a6a-6a7ca6e194ed"
   },
   "outputs": [
    {
     "name": "stdout",
     "output_type": "stream",
     "text": [
      "Generating report ...\n",
      "\n",
      "(1/2) Evaluating Column Shapes: |██████████| 10/10 [00:00<00:00, 34.86it/s]|\n",
      "Column Shapes Score: 97.68%\n",
      "\n",
      "(2/2) Evaluating Column Pair Trends: |██████████| 45/45 [00:06<00:00,  6.98it/s]|\n",
      "Column Pair Trends Score: 90.81%\n",
      "\n",
      "Overall Score (Average): 94.25%\n",
      "\n"
     ]
    }
   ],
   "source": [
    "# 2. measure the statistical similarity\n",
    "quality_report = evaluate_quality(data_df, synthetic_data, metadata)"
   ]
  },
  {
   "cell_type": "code",
   "execution_count": 22,
   "id": "dba051f0-a8f5-4129-9adf-b6534e5cc557",
   "metadata": {
    "colab": {
     "base_uri": "https://localhost:8080/",
     "height": 542
    },
    "executionInfo": {
     "elapsed": 1779,
     "status": "ok",
     "timestamp": 1713812845292,
     "user": {
      "displayName": "Ильяс Варшавский",
      "userId": "01979085533608609891"
     },
     "user_tz": -300
    },
    "id": "dba051f0-a8f5-4129-9adf-b6534e5cc557",
    "outputId": "de310815-9c8c-4881-b65a-3a4dda29b420"
   },
   "outputs": [
    {
     "data": {
      "text/html": [
       "<iframe\n",
       "    scrolling=\"no\"\n",
       "    width=\"100%\"\n",
       "    height=\"545px\"\n",
       "    src=\"iframe_figures/figure_22.html\"\n",
       "    frameborder=\"0\"\n",
       "    allowfullscreen\n",
       "></iframe>\n"
      ]
     },
     "metadata": {},
     "output_type": "display_data"
    }
   ],
   "source": [
    "# 3. plot the data\n",
    "fig = get_column_plot(\n",
    "    real_data=data_df,\n",
    "    synthetic_data=synthetic_data,\n",
    "    metadata=metadata,\n",
    "    column_name='Age'\n",
    ")\n",
    "\n",
    "fig.show()"
   ]
  },
  {
   "cell_type": "code",
   "execution_count": 23,
   "id": "8bf6abe5-2b04-47a7-b599-bb2177dccf85",
   "metadata": {
    "colab": {
     "base_uri": "https://localhost:8080/",
     "height": 363
    },
    "executionInfo": {
     "elapsed": 7,
     "status": "ok",
     "timestamp": 1713812845292,
     "user": {
      "displayName": "Ильяс Варшавский",
      "userId": "01979085533608609891"
     },
     "user_tz": -300
    },
    "id": "8bf6abe5-2b04-47a7-b599-bb2177dccf85",
    "outputId": "8fe624b9-c8fc-4d0f-adf9-d2968a39b670"
   },
   "outputs": [
    {
     "data": {
      "text/html": [
       "<div>\n",
       "<style scoped>\n",
       "    .dataframe tbody tr th:only-of-type {\n",
       "        vertical-align: middle;\n",
       "    }\n",
       "\n",
       "    .dataframe tbody tr th {\n",
       "        vertical-align: top;\n",
       "    }\n",
       "\n",
       "    .dataframe thead th {\n",
       "        text-align: right;\n",
       "    }\n",
       "</style>\n",
       "<table border=\"1\" class=\"dataframe\">\n",
       "  <thead>\n",
       "    <tr style=\"text-align: right;\">\n",
       "      <th></th>\n",
       "      <th>Column</th>\n",
       "      <th>Metric</th>\n",
       "      <th>Score</th>\n",
       "    </tr>\n",
       "  </thead>\n",
       "  <tbody>\n",
       "    <tr>\n",
       "      <th>0</th>\n",
       "      <td>Age</td>\n",
       "      <td>KSComplement</td>\n",
       "      <td>0.976380</td>\n",
       "    </tr>\n",
       "    <tr>\n",
       "      <th>1</th>\n",
       "      <td>Sex</td>\n",
       "      <td>TVComplement</td>\n",
       "      <td>0.989700</td>\n",
       "    </tr>\n",
       "    <tr>\n",
       "      <th>2</th>\n",
       "      <td>Job</td>\n",
       "      <td>TVComplement</td>\n",
       "      <td>0.991570</td>\n",
       "    </tr>\n",
       "    <tr>\n",
       "      <th>3</th>\n",
       "      <td>Housing</td>\n",
       "      <td>TVComplement</td>\n",
       "      <td>0.997350</td>\n",
       "    </tr>\n",
       "    <tr>\n",
       "      <th>4</th>\n",
       "      <td>Saving accounts</td>\n",
       "      <td>TVComplement</td>\n",
       "      <td>0.992430</td>\n",
       "    </tr>\n",
       "    <tr>\n",
       "      <th>5</th>\n",
       "      <td>Checking account</td>\n",
       "      <td>TVComplement</td>\n",
       "      <td>0.990542</td>\n",
       "    </tr>\n",
       "    <tr>\n",
       "      <th>6</th>\n",
       "      <td>Credit amount</td>\n",
       "      <td>KSComplement</td>\n",
       "      <td>0.935960</td>\n",
       "    </tr>\n",
       "    <tr>\n",
       "      <th>7</th>\n",
       "      <td>Duration</td>\n",
       "      <td>KSComplement</td>\n",
       "      <td>0.904330</td>\n",
       "    </tr>\n",
       "    <tr>\n",
       "      <th>8</th>\n",
       "      <td>Purpose</td>\n",
       "      <td>TVComplement</td>\n",
       "      <td>0.995470</td>\n",
       "    </tr>\n",
       "    <tr>\n",
       "      <th>9</th>\n",
       "      <td>Risk</td>\n",
       "      <td>TVComplement</td>\n",
       "      <td>0.994150</td>\n",
       "    </tr>\n",
       "  </tbody>\n",
       "</table>\n",
       "</div>"
      ],
      "text/plain": [
       "             Column        Metric     Score\n",
       "0               Age  KSComplement  0.976380\n",
       "1               Sex  TVComplement  0.989700\n",
       "2               Job  TVComplement  0.991570\n",
       "3           Housing  TVComplement  0.997350\n",
       "4   Saving accounts  TVComplement  0.992430\n",
       "5  Checking account  TVComplement  0.990542\n",
       "6     Credit amount  KSComplement  0.935960\n",
       "7          Duration  KSComplement  0.904330\n",
       "8           Purpose  TVComplement  0.995470\n",
       "9              Risk  TVComplement  0.994150"
      ]
     },
     "execution_count": 23,
     "metadata": {},
     "output_type": "execute_result"
    }
   ],
   "source": [
    "quality_report.get_details(property_name='Column Shapes')"
   ]
  },
  {
   "cell_type": "code",
   "execution_count": 35,
   "id": "7ca9cbdd-daaa-4161-804a-ea81a0a0a13f",
   "metadata": {
    "colab": {
     "base_uri": "https://localhost:8080/",
     "height": 542
    },
    "executionInfo": {
     "elapsed": 1418,
     "status": "ok",
     "timestamp": 1713812846705,
     "user": {
      "displayName": "Ильяс Варшавский",
      "userId": "01979085533608609891"
     },
     "user_tz": -300
    },
    "id": "7ca9cbdd-daaa-4161-804a-ea81a0a0a13f",
    "outputId": "e3dccc56-d759-49b3-8a37-655ea38fb4fb"
   },
   "outputs": [
    {
     "data": {
      "text/html": [
       "<iframe\n",
       "    scrolling=\"no\"\n",
       "    width=\"100%\"\n",
       "    height=\"545px\"\n",
       "    src=\"iframe_figures/figure_35.html\"\n",
       "    frameborder=\"0\"\n",
       "    allowfullscreen\n",
       "></iframe>\n"
      ]
     },
     "metadata": {},
     "output_type": "display_data"
    }
   ],
   "source": [
    "from sdv.evaluation.single_table import get_column_pair_plot\n",
    "\n",
    "fig = get_column_pair_plot(\n",
    "    real_data=data_df,\n",
    "    synthetic_data=synthetic_data,\n",
    "    metadata=metadata,\n",
    "    column_names=['Age', 'Sex'],\n",
    "    )\n",
    "\n",
    "fig.show()"
   ]
  },
  {
   "cell_type": "code",
   "execution_count": null,
   "id": "IJfpV6VdMaLE",
   "metadata": {
    "colab": {
     "base_uri": "https://localhost:8080/",
     "height": 1000,
     "output_embedded_package_id": "1kC1qkNrKSz7l6XhgjSlP5YcUxPsqIrQy"
    },
    "executionInfo": {
     "elapsed": 13043,
     "status": "ok",
     "timestamp": 1713812859746,
     "user": {
      "displayName": "Ильяс Варшавский",
      "userId": "01979085533608609891"
     },
     "user_tz": -300
    },
    "id": "IJfpV6VdMaLE",
    "outputId": "e20bc95e-69a4-4d98-c966-cc5bcd1d72b9"
   },
   "outputs": [],
   "source": [
    "for col in data_df.columns:\n",
    "    fig = get_column_plot(real_data=data_df, synthetic_data=synthetic_data, metadata=metadata, column_name=col)\n",
    "    fig.show()"
   ]
  },
  {
   "cell_type": "code",
   "execution_count": 26,
   "id": "84a45ea8-1452-40d2-8d40-450811f7e5b8",
   "metadata": {
    "executionInfo": {
     "elapsed": 31891,
     "status": "ok",
     "timestamp": 1713812573551,
     "user": {
      "displayName": "Ильяс Варшавский",
      "userId": "01979085533608609891"
     },
     "user_tz": -300
    },
    "id": "84a45ea8-1452-40d2-8d40-450811f7e5b8"
   },
   "outputs": [],
   "source": [
    "from sdv.single_table import TVAESynthesizer\n",
    "\n",
    "synthesizer_tvae = TVAESynthesizer(metadata)\n",
    "synthesizer_tvae.fit(data_df)\n",
    "\n",
    "synthetic_data_tvae = synthesizer_tvae.sample(data_df.shape[0]*100)"
   ]
  },
  {
   "cell_type": "code",
   "execution_count": 27,
   "id": "e95820ed-a75c-48c6-a63b-c9c2887331ba",
   "metadata": {
    "colab": {
     "base_uri": "https://localhost:8080/"
    },
    "executionInfo": {
     "elapsed": 3493,
     "status": "ok",
     "timestamp": 1713812577029,
     "user": {
      "displayName": "Ильяс Варшавский",
      "userId": "01979085533608609891"
     },
     "user_tz": -300
    },
    "id": "e95820ed-a75c-48c6-a63b-c9c2887331ba",
    "outputId": "04dde190-77cd-43b3-c4d9-a5246de4e609"
   },
   "outputs": [
    {
     "name": "stdout",
     "output_type": "stream",
     "text": [
      "Generating report ...\n",
      "\n",
      "(1/2) Evaluating Column Shapes: |██████████| 10/10 [00:00<00:00, 41.86it/s]|\n",
      "Column Shapes Score: 80.28%\n",
      "\n",
      "(2/2) Evaluating Column Pair Trends: |██████████| 45/45 [00:05<00:00,  7.51it/s]|\n",
      "Column Pair Trends Score: 71.28%\n",
      "\n",
      "Overall Score (Average): 75.78%\n",
      "\n"
     ]
    },
    {
     "data": {
      "text/plain": [
       "<sdmetrics.reports.single_table.quality_report.QualityReport at 0x1cea3308490>"
      ]
     },
     "execution_count": 27,
     "metadata": {},
     "output_type": "execute_result"
    }
   ],
   "source": [
    "# 2. measure the statistical similarity\n",
    "evaluate_quality(data_df, synthetic_data_tvae, metadata)"
   ]
  },
  {
   "cell_type": "markdown",
   "id": "c71ee299-03cd-41e1-90b9-b81debd72230",
   "metadata": {
    "id": "c71ee299-03cd-41e1-90b9-b81debd72230"
   },
   "source": [
    "# Второй набор"
   ]
  },
  {
   "cell_type": "code",
   "execution_count": 28,
   "id": "7b9b25d0-9d3c-4c52-b27b-345599010719",
   "metadata": {
    "id": "7b9b25d0-9d3c-4c52-b27b-345599010719"
   },
   "outputs": [],
   "source": [
    "scheme= pd.read_csv(r'loans_full_schema.csv')"
   ]
  },
  {
   "cell_type": "code",
   "execution_count": 29,
   "id": "1efcadd1-fa5d-44bf-95ca-5acae9ba4c77",
   "metadata": {
    "colab": {
     "base_uri": "https://localhost:8080/"
    },
    "executionInfo": {
     "elapsed": 7,
     "status": "ok",
     "timestamp": 1713810135067,
     "user": {
      "displayName": "Ильяс Варшавский",
      "userId": "01979085533608609891"
     },
     "user_tz": -300
    },
    "id": "1efcadd1-fa5d-44bf-95ca-5acae9ba4c77",
    "outputId": "30c0df4c-7715-497e-b1f6-f923a8e20910"
   },
   "outputs": [
    {
     "data": {
      "text/plain": [
       "(10000, 55)"
      ]
     },
     "execution_count": 29,
     "metadata": {},
     "output_type": "execute_result"
    }
   ],
   "source": [
    "scheme.shape"
   ]
  },
  {
   "cell_type": "code",
   "execution_count": 30,
   "id": "59cfaf4f-edba-4160-9390-dcf6e124da35",
   "metadata": {
    "colab": {
     "base_uri": "https://localhost:8080/"
    },
    "executionInfo": {
     "elapsed": 3,
     "status": "ok",
     "timestamp": 1713810137176,
     "user": {
      "displayName": "Ильяс Варшавский",
      "userId": "01979085533608609891"
     },
     "user_tz": -300
    },
    "id": "59cfaf4f-edba-4160-9390-dcf6e124da35",
    "outputId": "3a58ece2-0af6-4776-c9d8-75e0db73542c"
   },
   "outputs": [
    {
     "name": "stdout",
     "output_type": "stream",
     "text": [
      "<class 'pandas.core.frame.DataFrame'>\n",
      "RangeIndex: 10000 entries, 0 to 9999\n",
      "Data columns (total 55 columns):\n",
      " #   Column                            Non-Null Count  Dtype  \n",
      "---  ------                            --------------  -----  \n",
      " 0   emp_title                         9167 non-null   object \n",
      " 1   emp_length                        9183 non-null   float64\n",
      " 2   state                             10000 non-null  object \n",
      " 3   homeownership                     10000 non-null  object \n",
      " 4   annual_income                     10000 non-null  float64\n",
      " 5   verified_income                   10000 non-null  object \n",
      " 6   debt_to_income                    9976 non-null   float64\n",
      " 7   annual_income_joint               1495 non-null   float64\n",
      " 8   verification_income_joint         1455 non-null   object \n",
      " 9   debt_to_income_joint              1495 non-null   float64\n",
      " 10  delinq_2y                         10000 non-null  int64  \n",
      " 11  months_since_last_delinq          4342 non-null   float64\n",
      " 12  earliest_credit_line              10000 non-null  int64  \n",
      " 13  inquiries_last_12m                10000 non-null  int64  \n",
      " 14  total_credit_lines                10000 non-null  int64  \n",
      " 15  open_credit_lines                 10000 non-null  int64  \n",
      " 16  total_credit_limit                10000 non-null  int64  \n",
      " 17  total_credit_utilized             10000 non-null  int64  \n",
      " 18  num_collections_last_12m          10000 non-null  int64  \n",
      " 19  num_historical_failed_to_pay      10000 non-null  int64  \n",
      " 20  months_since_90d_late             2285 non-null   float64\n",
      " 21  current_accounts_delinq           10000 non-null  int64  \n",
      " 22  total_collection_amount_ever      10000 non-null  int64  \n",
      " 23  current_installment_accounts      10000 non-null  int64  \n",
      " 24  accounts_opened_24m               10000 non-null  int64  \n",
      " 25  months_since_last_credit_inquiry  8729 non-null   float64\n",
      " 26  num_satisfactory_accounts         10000 non-null  int64  \n",
      " 27  num_accounts_120d_past_due        9682 non-null   float64\n",
      " 28  num_accounts_30d_past_due         10000 non-null  int64  \n",
      " 29  num_active_debit_accounts         10000 non-null  int64  \n",
      " 30  total_debit_limit                 10000 non-null  int64  \n",
      " 31  num_total_cc_accounts             10000 non-null  int64  \n",
      " 32  num_open_cc_accounts              10000 non-null  int64  \n",
      " 33  num_cc_carrying_balance           10000 non-null  int64  \n",
      " 34  num_mort_accounts                 10000 non-null  int64  \n",
      " 35  account_never_delinq_percent      10000 non-null  float64\n",
      " 36  tax_liens                         10000 non-null  int64  \n",
      " 37  public_record_bankrupt            10000 non-null  int64  \n",
      " 38  loan_purpose                      10000 non-null  object \n",
      " 39  application_type                  10000 non-null  object \n",
      " 40  loan_amount                       10000 non-null  int64  \n",
      " 41  term                              10000 non-null  int64  \n",
      " 42  interest_rate                     10000 non-null  float64\n",
      " 43  installment                       10000 non-null  float64\n",
      " 44  grade                             10000 non-null  object \n",
      " 45  sub_grade                         10000 non-null  object \n",
      " 46  issue_month                       10000 non-null  object \n",
      " 47  loan_status                       10000 non-null  object \n",
      " 48  initial_listing_status            10000 non-null  object \n",
      " 49  disbursement_method               10000 non-null  object \n",
      " 50  balance                           10000 non-null  float64\n",
      " 51  paid_total                        10000 non-null  float64\n",
      " 52  paid_principal                    10000 non-null  float64\n",
      " 53  paid_interest                     10000 non-null  float64\n",
      " 54  paid_late_fees                    10000 non-null  float64\n",
      "dtypes: float64(17), int64(25), object(13)\n",
      "memory usage: 4.2+ MB\n"
     ]
    }
   ],
   "source": [
    "scheme.info()"
   ]
  },
  {
   "cell_type": "code",
   "execution_count": 31,
   "id": "588db980-edd2-4d78-a3b7-9ff0fe37b189",
   "metadata": {
    "colab": {
     "base_uri": "https://localhost:8080/"
    },
    "executionInfo": {
     "elapsed": 3,
     "status": "ok",
     "timestamp": 1713810138356,
     "user": {
      "displayName": "Ильяс Варшавский",
      "userId": "01979085533608609891"
     },
     "user_tz": -300
    },
    "id": "588db980-edd2-4d78-a3b7-9ff0fe37b189",
    "outputId": "b721eb9c-fbf8-4284-8c3a-4f5ccc27649c"
   },
   "outputs": [
    {
     "data": {
      "text/plain": [
       "manager                     218\n",
       "owner                       204\n",
       "teacher                     201\n",
       "driver                      123\n",
       "sales                        97\n",
       "                           ... \n",
       "corporate tax director        1\n",
       "captain-fire department       1\n",
       "intervention specialist       1\n",
       "coffee roaster                1\n",
       "toolmaker                     1\n",
       "Name: emp_title, Length: 4741, dtype: int64"
      ]
     },
     "execution_count": 31,
     "metadata": {},
     "output_type": "execute_result"
    }
   ],
   "source": [
    "scheme.emp_title.value_counts()"
   ]
  },
  {
   "cell_type": "code",
   "execution_count": 32,
   "id": "64561468-eafc-4a15-b8e8-da6cf291ec8c",
   "metadata": {
    "executionInfo": {
     "elapsed": 604,
     "status": "ok",
     "timestamp": 1713810204806,
     "user": {
      "displayName": "Ильяс Варшавский",
      "userId": "01979085533608609891"
     },
     "user_tz": -300
    },
    "id": "64561468-eafc-4a15-b8e8-da6cf291ec8c"
   },
   "outputs": [],
   "source": [
    "metadata2 = SingleTableMetadata()\n",
    "metadata2.detect_from_dataframe(scheme)"
   ]
  },
  {
   "cell_type": "code",
   "execution_count": 33,
   "id": "65a37595-3938-407f-89bc-665a1e578488",
   "metadata": {
    "colab": {
     "base_uri": "https://localhost:8080/",
     "height": 1000
    },
    "executionInfo": {
     "elapsed": 532,
     "status": "ok",
     "timestamp": 1713810207531,
     "user": {
      "displayName": "Ильяс Варшавский",
      "userId": "01979085533608609891"
     },
     "user_tz": -300
    },
    "id": "65a37595-3938-407f-89bc-665a1e578488",
    "outputId": "fe7fb1ec-0015-4350-8b18-65478c2fb7d5"
   },
   "outputs": [
    {
     "data": {
      "image/svg+xml": [
       "<?xml version=\"1.0\" encoding=\"UTF-8\" standalone=\"no\"?>\n",
       "<!DOCTYPE svg PUBLIC \"-//W3C//DTD SVG 1.1//EN\"\n",
       " \"http://www.w3.org/Graphics/SVG/1.1/DTD/svg11.dtd\">\n",
       "<!-- Generated by graphviz version 2.50.0 (0)\n",
       " -->\n",
       "<!-- Title: Metadata Pages: 1 -->\n",
       "<svg width=\"274pt\" height=\"842pt\"\n",
       " viewBox=\"0.00 0.00 274.00 842.00\" xmlns=\"http://www.w3.org/2000/svg\" xmlns:xlink=\"http://www.w3.org/1999/xlink\">\n",
       "<g id=\"graph0\" class=\"graph\" transform=\"scale(1 1) rotate(0) translate(4 838)\">\n",
       "<title>Metadata</title>\n",
       "<polygon fill=\"white\" stroke=\"transparent\" points=\"-4,4 -4,-838 270,-838 270,4 -4,4\"/>\n",
       "<g id=\"node1\" class=\"node\">\n",
       "<title></title>\n",
       "<path fill=\"#ffec8b\" stroke=\"black\" d=\"M12,-0.5C12,-0.5 254,-0.5 254,-0.5 260,-0.5 266,-6.5 266,-12.5 266,-12.5 266,-821.5 266,-821.5 266,-827.5 260,-833.5 254,-833.5 254,-833.5 12,-833.5 12,-833.5 6,-833.5 0,-827.5 0,-821.5 0,-821.5 0,-12.5 0,-12.5 0,-6.5 6,-0.5 12,-0.5\"/>\n",
       "<text text-anchor=\"start\" x=\"8\" y=\"-818.3\" font-family=\"Times New Roman,serif\" font-size=\"14.00\">emp_title : unknown</text>\n",
       "<text text-anchor=\"start\" x=\"8\" y=\"-803.3\" font-family=\"Times New Roman,serif\" font-size=\"14.00\">emp_length : numerical</text>\n",
       "<text text-anchor=\"start\" x=\"8\" y=\"-788.3\" font-family=\"Times New Roman,serif\" font-size=\"14.00\">state : administrative_unit</text>\n",
       "<text text-anchor=\"start\" x=\"8\" y=\"-773.3\" font-family=\"Times New Roman,serif\" font-size=\"14.00\">homeownership : categorical</text>\n",
       "<text text-anchor=\"start\" x=\"8\" y=\"-758.3\" font-family=\"Times New Roman,serif\" font-size=\"14.00\">annual_income : numerical</text>\n",
       "<text text-anchor=\"start\" x=\"8\" y=\"-743.3\" font-family=\"Times New Roman,serif\" font-size=\"14.00\">verified_income : categorical</text>\n",
       "<text text-anchor=\"start\" x=\"8\" y=\"-728.3\" font-family=\"Times New Roman,serif\" font-size=\"14.00\">debt_to_income : numerical</text>\n",
       "<text text-anchor=\"start\" x=\"8\" y=\"-713.3\" font-family=\"Times New Roman,serif\" font-size=\"14.00\">annual_income_joint : numerical</text>\n",
       "<text text-anchor=\"start\" x=\"8\" y=\"-698.3\" font-family=\"Times New Roman,serif\" font-size=\"14.00\">verification_income_joint : categorical</text>\n",
       "<text text-anchor=\"start\" x=\"8\" y=\"-683.3\" font-family=\"Times New Roman,serif\" font-size=\"14.00\">debt_to_income_joint : numerical</text>\n",
       "<text text-anchor=\"start\" x=\"8\" y=\"-668.3\" font-family=\"Times New Roman,serif\" font-size=\"14.00\">delinq_2y : numerical</text>\n",
       "<text text-anchor=\"start\" x=\"8\" y=\"-653.3\" font-family=\"Times New Roman,serif\" font-size=\"14.00\">months_since_last_delinq : numerical</text>\n",
       "<text text-anchor=\"start\" x=\"8\" y=\"-638.3\" font-family=\"Times New Roman,serif\" font-size=\"14.00\">earliest_credit_line : numerical</text>\n",
       "<text text-anchor=\"start\" x=\"8\" y=\"-623.3\" font-family=\"Times New Roman,serif\" font-size=\"14.00\">inquiries_last_12m : numerical</text>\n",
       "<text text-anchor=\"start\" x=\"8\" y=\"-608.3\" font-family=\"Times New Roman,serif\" font-size=\"14.00\">total_credit_lines : numerical</text>\n",
       "<text text-anchor=\"start\" x=\"8\" y=\"-593.3\" font-family=\"Times New Roman,serif\" font-size=\"14.00\">open_credit_lines : numerical</text>\n",
       "<text text-anchor=\"start\" x=\"8\" y=\"-578.3\" font-family=\"Times New Roman,serif\" font-size=\"14.00\">total_credit_limit : numerical</text>\n",
       "<text text-anchor=\"start\" x=\"8\" y=\"-563.3\" font-family=\"Times New Roman,serif\" font-size=\"14.00\">total_credit_utilized : numerical</text>\n",
       "<text text-anchor=\"start\" x=\"8\" y=\"-548.3\" font-family=\"Times New Roman,serif\" font-size=\"14.00\">num_collections_last_12m : categorical</text>\n",
       "<text text-anchor=\"start\" x=\"8\" y=\"-533.3\" font-family=\"Times New Roman,serif\" font-size=\"14.00\">num_historical_failed_to_pay : categorical</text>\n",
       "<text text-anchor=\"start\" x=\"8\" y=\"-518.3\" font-family=\"Times New Roman,serif\" font-size=\"14.00\">months_since_90d_late : numerical</text>\n",
       "<text text-anchor=\"start\" x=\"8\" y=\"-503.3\" font-family=\"Times New Roman,serif\" font-size=\"14.00\">current_accounts_delinq : categorical</text>\n",
       "<text text-anchor=\"start\" x=\"8\" y=\"-488.3\" font-family=\"Times New Roman,serif\" font-size=\"14.00\">total_collection_amount_ever : numerical</text>\n",
       "<text text-anchor=\"start\" x=\"8\" y=\"-473.3\" font-family=\"Times New Roman,serif\" font-size=\"14.00\">current_installment_accounts : numerical</text>\n",
       "<text text-anchor=\"start\" x=\"8\" y=\"-458.3\" font-family=\"Times New Roman,serif\" font-size=\"14.00\">accounts_opened_24m : numerical</text>\n",
       "<text text-anchor=\"start\" x=\"8\" y=\"-443.3\" font-family=\"Times New Roman,serif\" font-size=\"14.00\">months_since_last_credit_inquiry : numerical</text>\n",
       "<text text-anchor=\"start\" x=\"8\" y=\"-428.3\" font-family=\"Times New Roman,serif\" font-size=\"14.00\">num_satisfactory_accounts : numerical</text>\n",
       "<text text-anchor=\"start\" x=\"8\" y=\"-413.3\" font-family=\"Times New Roman,serif\" font-size=\"14.00\">num_accounts_120d_past_due : categorical</text>\n",
       "<text text-anchor=\"start\" x=\"8\" y=\"-398.3\" font-family=\"Times New Roman,serif\" font-size=\"14.00\">num_accounts_30d_past_due : categorical</text>\n",
       "<text text-anchor=\"start\" x=\"8\" y=\"-383.3\" font-family=\"Times New Roman,serif\" font-size=\"14.00\">num_active_debit_accounts : numerical</text>\n",
       "<text text-anchor=\"start\" x=\"8\" y=\"-368.3\" font-family=\"Times New Roman,serif\" font-size=\"14.00\">total_debit_limit : numerical</text>\n",
       "<text text-anchor=\"start\" x=\"8\" y=\"-353.3\" font-family=\"Times New Roman,serif\" font-size=\"14.00\">num_total_cc_accounts : numerical</text>\n",
       "<text text-anchor=\"start\" x=\"8\" y=\"-338.3\" font-family=\"Times New Roman,serif\" font-size=\"14.00\">num_open_cc_accounts : numerical</text>\n",
       "<text text-anchor=\"start\" x=\"8\" y=\"-323.3\" font-family=\"Times New Roman,serif\" font-size=\"14.00\">num_cc_carrying_balance : numerical</text>\n",
       "<text text-anchor=\"start\" x=\"8\" y=\"-308.3\" font-family=\"Times New Roman,serif\" font-size=\"14.00\">num_mort_accounts : numerical</text>\n",
       "<text text-anchor=\"start\" x=\"8\" y=\"-293.3\" font-family=\"Times New Roman,serif\" font-size=\"14.00\">account_never_delinq_percent : numerical</text>\n",
       "<text text-anchor=\"start\" x=\"8\" y=\"-278.3\" font-family=\"Times New Roman,serif\" font-size=\"14.00\">tax_liens : categorical</text>\n",
       "<text text-anchor=\"start\" x=\"8\" y=\"-263.3\" font-family=\"Times New Roman,serif\" font-size=\"14.00\">public_record_bankrupt : categorical</text>\n",
       "<text text-anchor=\"start\" x=\"8\" y=\"-248.3\" font-family=\"Times New Roman,serif\" font-size=\"14.00\">loan_purpose : categorical</text>\n",
       "<text text-anchor=\"start\" x=\"8\" y=\"-233.3\" font-family=\"Times New Roman,serif\" font-size=\"14.00\">application_type : categorical</text>\n",
       "<text text-anchor=\"start\" x=\"8\" y=\"-218.3\" font-family=\"Times New Roman,serif\" font-size=\"14.00\">loan_amount : numerical</text>\n",
       "<text text-anchor=\"start\" x=\"8\" y=\"-203.3\" font-family=\"Times New Roman,serif\" font-size=\"14.00\">term : categorical</text>\n",
       "<text text-anchor=\"start\" x=\"8\" y=\"-188.3\" font-family=\"Times New Roman,serif\" font-size=\"14.00\">interest_rate : numerical</text>\n",
       "<text text-anchor=\"start\" x=\"8\" y=\"-173.3\" font-family=\"Times New Roman,serif\" font-size=\"14.00\">installment : numerical</text>\n",
       "<text text-anchor=\"start\" x=\"8\" y=\"-158.3\" font-family=\"Times New Roman,serif\" font-size=\"14.00\">grade : categorical</text>\n",
       "<text text-anchor=\"start\" x=\"8\" y=\"-143.3\" font-family=\"Times New Roman,serif\" font-size=\"14.00\">sub_grade : categorical</text>\n",
       "<text text-anchor=\"start\" x=\"8\" y=\"-128.3\" font-family=\"Times New Roman,serif\" font-size=\"14.00\">issue_month : categorical</text>\n",
       "<text text-anchor=\"start\" x=\"8\" y=\"-113.3\" font-family=\"Times New Roman,serif\" font-size=\"14.00\">loan_status : categorical</text>\n",
       "<text text-anchor=\"start\" x=\"8\" y=\"-98.3\" font-family=\"Times New Roman,serif\" font-size=\"14.00\">initial_listing_status : categorical</text>\n",
       "<text text-anchor=\"start\" x=\"8\" y=\"-83.3\" font-family=\"Times New Roman,serif\" font-size=\"14.00\">disbursement_method : categorical</text>\n",
       "<text text-anchor=\"start\" x=\"8\" y=\"-68.3\" font-family=\"Times New Roman,serif\" font-size=\"14.00\">balance : numerical</text>\n",
       "<text text-anchor=\"start\" x=\"8\" y=\"-53.3\" font-family=\"Times New Roman,serif\" font-size=\"14.00\">paid_total : numerical</text>\n",
       "<text text-anchor=\"start\" x=\"8\" y=\"-38.3\" font-family=\"Times New Roman,serif\" font-size=\"14.00\">paid_principal : numerical</text>\n",
       "<text text-anchor=\"start\" x=\"8\" y=\"-23.3\" font-family=\"Times New Roman,serif\" font-size=\"14.00\">paid_interest : numerical</text>\n",
       "<text text-anchor=\"start\" x=\"8\" y=\"-8.3\" font-family=\"Times New Roman,serif\" font-size=\"14.00\">paid_late_fees : numerical</text>\n",
       "</g>\n",
       "</g>\n",
       "</svg>\n"
      ],
      "text/plain": [
       "<graphviz.graphs.Digraph at 0x1cea3313430>"
      ]
     },
     "execution_count": 33,
     "metadata": {},
     "output_type": "execute_result"
    }
   ],
   "source": [
    "metadata2.visualize(\n",
    "    show_table_details='full',\n",
    "    output_filepath='my_metadata.png'\n",
    ")"
   ]
  },
  {
   "cell_type": "code",
   "execution_count": 34,
   "id": "b476847b-4836-4793-a2f1-7a8f1c6a5ba0",
   "metadata": {
    "executionInfo": {
     "elapsed": 662,
     "status": "ok",
     "timestamp": 1713810233165,
     "user": {
      "displayName": "Ильяс Варшавский",
      "userId": "01979085533608609891"
     },
     "user_tz": -300
    },
    "id": "b476847b-4836-4793-a2f1-7a8f1c6a5ba0"
   },
   "outputs": [],
   "source": [
    "metadata2.update_column(column_name='emp_title', sdtype='categorical')"
   ]
  },
  {
   "cell_type": "code",
   "execution_count": 16,
   "id": "a516bda2-d6cc-4aa8-add1-d79e1f32de08",
   "metadata": {
    "colab": {
     "base_uri": "https://localhost:8080/"
    },
    "executionInfo": {
     "elapsed": 6240,
     "status": "ok",
     "timestamp": 1713810242328,
     "user": {
      "displayName": "Ильяс Варшавский",
      "userId": "01979085533608609891"
     },
     "user_tz": -300
    },
    "id": "a516bda2-d6cc-4aa8-add1-d79e1f32de08",
    "outputId": "ec2f4be4-c06d-4b1f-8ea4-f3fea6a92f9d"
   },
   "outputs": [
    {
     "name": "stderr",
     "output_type": "stream",
     "text": [
      "/usr/local/lib/python3.10/dist-packages/sdv/single_table/base.py:82: UserWarning: We strongly recommend saving the metadata using 'save_to_json' for replicability in future SDV versions.\n",
      "  warnings.warn(\n"
     ]
    }
   ],
   "source": [
    "from sdv.single_table import GaussianCopulaSynthesizer\n",
    "synthesizer2 = GaussianCopulaSynthesizer(metadata2)"
   ]
  },
  {
   "cell_type": "code",
   "execution_count": 17,
   "id": "b786429a-9baf-4f61-a714-f43b681d10d9",
   "metadata": {
    "executionInfo": {
     "elapsed": 215901,
     "status": "ok",
     "timestamp": 1713810469333,
     "user": {
      "displayName": "Ильяс Варшавский",
      "userId": "01979085533608609891"
     },
     "user_tz": -300
    },
    "id": "b786429a-9baf-4f61-a714-f43b681d10d9",
    "tags": []
   },
   "outputs": [],
   "source": [
    "# Step 2: Train the synthesizer\n",
    "synthesizer2.fit(scheme)\n",
    "\n",
    "# Step 3: Generate synthetic data\n",
    "synthetic_data2 = synthesizer2.sample(num_rows=scheme.shape[0]*100)"
   ]
  },
  {
   "cell_type": "code",
   "execution_count": 20,
   "id": "xNkPR-z-DSHN",
   "metadata": {
    "colab": {
     "base_uri": "https://localhost:8080/"
    },
    "executionInfo": {
     "elapsed": 891111,
     "status": "ok",
     "timestamp": 1713811562189,
     "user": {
      "displayName": "Ильяс Варшавский",
      "userId": "01979085533608609891"
     },
     "user_tz": -300
    },
    "id": "xNkPR-z-DSHN",
    "outputId": "00bd5cf3-fc56-41af-fde4-1d69ac5cda7f"
   },
   "outputs": [
    {
     "name": "stdout",
     "output_type": "stream",
     "text": [
      "Generating report ...\n",
      "\n",
      "(1/2) Evaluating Column Shapes: |██████████| 55/55 [00:09<00:00,  5.68it/s]|\n",
      "Column Shapes Score: 88.28%\n",
      "\n",
      "(2/2) Evaluating Column Pair Trends: |██████████| 1485/1485 [14:41<00:00,  1.68it/s]|\n",
      "Column Pair Trends Score: 90.55%\n",
      "\n",
      "Overall Score (Average): 89.42%\n",
      "\n"
     ]
    },
    {
     "data": {
      "text/plain": [
       "<sdmetrics.reports.single_table.quality_report.QualityReport at 0x7ef2f9c6db40>"
      ]
     },
     "execution_count": 20,
     "metadata": {},
     "output_type": "execute_result"
    }
   ],
   "source": [
    "# 2. measure the statistical similarity\n",
    "evaluate_quality(scheme, synthetic_data2, metadata2)"
   ]
  },
  {
   "cell_type": "code",
   "execution_count": 23,
   "id": "knE1NA_wEyI5",
   "metadata": {
    "colab": {
     "base_uri": "https://localhost:8080/",
     "height": 1000,
     "output_embedded_package_id": "1e6_ZTtBZKmm64OnStXvimRxPgi00RjMm"
    },
    "executionInfo": {
     "elapsed": 0,
     "status": "ok",
     "timestamp": 1713812253911,
     "user": {
      "displayName": "Ильяс Варшавский",
      "userId": "01979085533608609891"
     },
     "user_tz": -300
    },
    "id": "knE1NA_wEyI5",
    "outputId": "87030011-7c12-4824-b80a-580e3aac7e95"
   },
   "outputs": [
    {
     "data": {
      "text/plain": [
       "Output hidden; open in https://colab.research.google.com to view."
      ]
     },
     "metadata": {},
     "output_type": "display_data"
    }
   ],
   "source": [
    "for col in scheme.loc[:, scheme.columns!='state'].columns:\n",
    "    fig1 = get_column_plot(real_data=scheme.loc[:, scheme.columns!='state'],\n",
    "                        synthetic_data=synthetic_data2.loc[:, scheme.columns!='state'],\n",
    "                        metadata=metadata2, column_name=col) \n",
    "    fig1.show()"
   ]
  },
  {
   "cell_type": "markdown",
   "id": "Rq8Q9RrELCo9",
   "metadata": {
    "id": "Rq8Q9RrELCo9"
   },
   "source": [
    "# Итоги"
   ]
  },
  {
   "cell_type": "markdown",
   "id": "dnXDB7DVLFIt",
   "metadata": {
    "id": "dnXDB7DVLFIt"
   },
   "source": [
    "\n",
    "\n",
    "---\n",
    "\n",
    "\n",
    "Первый набор\n",
    "\n",
    "Generating report ...\n",
    "\n",
    "(1/2) Evaluating Column Shapes: |██████████| 10/10 [00:00<00:00, 33.69it/s]|\n",
    "Column Shapes Score: 97.68%\n",
    "\n",
    "(2/2) Evaluating Column Pair Trends: |██████████| 45/45 [00:06<00:00,  6.52it/s]|\n",
    "Column Pair Trends Score: 90.81%\n",
    "\n",
    "Overall Score (Average): 94.25%\n",
    "\n",
    "\n",
    "\n",
    "---\n",
    "\n",
    "\n",
    "Второй набор\n",
    "\n",
    "Generating report ...\n",
    "\n",
    "(1/2) Evaluating Column Shapes: |██████████| 55/55 [00:09<00:00,  5.68it/s]|\n",
    "Column Shapes Score: 88.28%\n",
    "\n",
    "(2/2) Evaluating Column Pair Trends: |██████████| 1485/1485 [14:41<00:00,  1.68it/s]|\n",
    "Column Pair Trends Score: 90.55%\n",
    "\n",
    "Overall Score (Average): 89.42%"
   ]
  },
  {
   "cell_type": "code",
   "execution_count": null,
   "id": "GTW3b2m1HuHK",
   "metadata": {
    "id": "GTW3b2m1HuHK"
   },
   "outputs": [],
   "source": []
  }
 ],
 "metadata": {
  "colab": {
   "provenance": [],
   "toc_visible": true
  },
  "kernelspec": {
   "display_name": "Python 3 (ipykernel)",
   "language": "python",
   "name": "python3"
  },
  "language_info": {
   "codemirror_mode": {
    "name": "ipython",
    "version": 3
   },
   "file_extension": ".py",
   "mimetype": "text/x-python",
   "name": "python",
   "nbconvert_exporter": "python",
   "pygments_lexer": "ipython3",
   "version": "3.8.11"
  }
 },
 "nbformat": 4,
 "nbformat_minor": 5
}

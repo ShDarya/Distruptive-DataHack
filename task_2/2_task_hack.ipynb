{
 "cells": [
  {
   "cell_type": "code",
   "execution_count": 1,
   "id": "7dd9ffa6-ab14-4aff-a394-b05590386fe2",
   "metadata": {},
   "outputs": [],
   "source": [
    "import pandas as pd\n",
    "import numpy as np\n",
    "import matplotlib.pyplot as plt\n",
    "import seaborn as sns"
   ]
  },
  {
   "cell_type": "code",
   "execution_count": 2,
   "id": "78fa1bf2-25de-4dc1-a9b6-15036b8ca6fd",
   "metadata": {
    "tags": []
   },
   "outputs": [],
   "source": [
    "import catboost as cb\n",
    "from sklearn.linear_model import LinearRegression\n",
    "from sklearn.metrics import mean_squared_error\n",
    "from sklearn.metrics import r2_score\n",
    "from sklearn.metrics import accuracy_score"
   ]
  },
  {
   "cell_type": "code",
   "execution_count": 3,
   "id": "9cd52048-3572-4bf9-a4cc-ea5d758008ae",
   "metadata": {
    "tags": []
   },
   "outputs": [],
   "source": [
    "from sklearn.metrics import classification_report"
   ]
  },
  {
   "cell_type": "markdown",
   "id": "e3e058a0-6c64-4807-b73f-b2486e76f5a9",
   "metadata": {},
   "source": [
    "# Data"
   ]
  },
  {
   "cell_type": "markdown",
   "id": "7ce7fe9d-8721-421b-b020-f6afebac5df0",
   "metadata": {},
   "source": [
    "## Import data"
   ]
  },
  {
   "cell_type": "code",
   "execution_count": 4,
   "id": "676140bf-1261-417e-8466-cc9ffc28b0bb",
   "metadata": {},
   "outputs": [],
   "source": [
    "sku_dict= pd.read_csv('sku_dict.csv')"
   ]
  },
  {
   "cell_type": "code",
   "execution_count": 5,
   "id": "23d01b4b-ee8f-42b1-87b7-24467932d019",
   "metadata": {},
   "outputs": [],
   "source": [
    "ZX_df = pd.read_csv('ZX10208_agr.csv')\n"
   ]
  },
  {
   "cell_type": "code",
   "execution_count": 6,
   "id": "4ac3b1b3-8a38-4f0d-ac99-7536d5e1f526",
   "metadata": {},
   "outputs": [],
   "source": [
    "df_1510001 = pd.read_csv('1510001_agr.csv')"
   ]
  },
  {
   "cell_type": "code",
   "execution_count": 7,
   "id": "e90a4375-ef84-4264-a6a3-1f96bf2c1cd0",
   "metadata": {},
   "outputs": [],
   "source": [
    "df_1510002 = pd.read_csv('1510002_agr.csv')"
   ]
  },
  {
   "cell_type": "code",
   "execution_count": 8,
   "id": "23041c96-ec5a-49a2-8936-98289fa898a6",
   "metadata": {},
   "outputs": [],
   "source": [
    "df_1510003 = pd.read_csv('1510003_agr.csv')"
   ]
  },
  {
   "cell_type": "code",
   "execution_count": 9,
   "id": "9f511fe7-40f9-47d2-8af4-c6ad2afc2713",
   "metadata": {},
   "outputs": [],
   "source": [
    "conc_df = pd.read_csv('conc_df.csv')"
   ]
  },
  {
   "cell_type": "code",
   "execution_count": 10,
   "id": "400764ea-87dd-4078-b972-ec8906866181",
   "metadata": {},
   "outputs": [],
   "source": [
    "promo_df = pd.read_csv('promo_1510002.csv')"
   ]
  },
  {
   "cell_type": "code",
   "execution_count": 11,
   "id": "6dd6cd57-cb85-4546-a556-71a918a5d714",
   "metadata": {},
   "outputs": [
    {
     "data": {
      "text/html": [
       "<div>\n",
       "<style scoped>\n",
       "    .dataframe tbody tr th:only-of-type {\n",
       "        vertical-align: middle;\n",
       "    }\n",
       "\n",
       "    .dataframe tbody tr th {\n",
       "        vertical-align: top;\n",
       "    }\n",
       "\n",
       "    .dataframe thead th {\n",
       "        text-align: right;\n",
       "    }\n",
       "</style>\n",
       "<table border=\"1\" class=\"dataframe\">\n",
       "  <thead>\n",
       "    <tr style=\"text-align: right;\">\n",
       "      <th></th>\n",
       "      <th>year</th>\n",
       "      <th>week_num</th>\n",
       "      <th>SKU</th>\n",
       "      <th>discount</th>\n",
       "    </tr>\n",
       "  </thead>\n",
       "  <tbody>\n",
       "    <tr>\n",
       "      <th>0</th>\n",
       "      <td>2019</td>\n",
       "      <td>1</td>\n",
       "      <td>90611</td>\n",
       "      <td>0.9</td>\n",
       "    </tr>\n",
       "    <tr>\n",
       "      <th>1</th>\n",
       "      <td>2019</td>\n",
       "      <td>2</td>\n",
       "      <td>10334</td>\n",
       "      <td>0.9</td>\n",
       "    </tr>\n",
       "    <tr>\n",
       "      <th>2</th>\n",
       "      <td>2019</td>\n",
       "      <td>3</td>\n",
       "      <td>68211</td>\n",
       "      <td>0.9</td>\n",
       "    </tr>\n",
       "  </tbody>\n",
       "</table>\n",
       "</div>"
      ],
      "text/plain": [
       "   year  week_num    SKU  discount\n",
       "0  2019         1  90611       0.9\n",
       "1  2019         2  10334       0.9\n",
       "2  2019         3  68211       0.9"
      ]
     },
     "execution_count": 11,
     "metadata": {},
     "output_type": "execute_result"
    }
   ],
   "source": [
    "promo_df[:3]"
   ]
  },
  {
   "cell_type": "code",
   "execution_count": 12,
   "id": "484237ac-c255-4485-b9fd-2d03a7b83191",
   "metadata": {},
   "outputs": [
    {
     "data": {
      "text/html": [
       "<div>\n",
       "<style scoped>\n",
       "    .dataframe tbody tr th:only-of-type {\n",
       "        vertical-align: middle;\n",
       "    }\n",
       "\n",
       "    .dataframe tbody tr th {\n",
       "        vertical-align: top;\n",
       "    }\n",
       "\n",
       "    .dataframe thead th {\n",
       "        text-align: right;\n",
       "    }\n",
       "</style>\n",
       "<table border=\"1\" class=\"dataframe\">\n",
       "  <thead>\n",
       "    <tr style=\"text-align: right;\">\n",
       "      <th></th>\n",
       "      <th>SKU</th>\n",
       "      <th>year</th>\n",
       "      <th>week_num</th>\n",
       "      <th>ret_net_code</th>\n",
       "      <th>price_per_sku</th>\n",
       "    </tr>\n",
       "  </thead>\n",
       "  <tbody>\n",
       "    <tr>\n",
       "      <th>0</th>\n",
       "      <td>84395</td>\n",
       "      <td>2019</td>\n",
       "      <td>18</td>\n",
       "      <td>1</td>\n",
       "      <td>164.6940</td>\n",
       "    </tr>\n",
       "    <tr>\n",
       "      <th>1</th>\n",
       "      <td>84395</td>\n",
       "      <td>2019</td>\n",
       "      <td>18</td>\n",
       "      <td>2</td>\n",
       "      <td>164.6940</td>\n",
       "    </tr>\n",
       "    <tr>\n",
       "      <th>2</th>\n",
       "      <td>84395</td>\n",
       "      <td>2019</td>\n",
       "      <td>18</td>\n",
       "      <td>3</td>\n",
       "      <td>134.5001</td>\n",
       "    </tr>\n",
       "  </tbody>\n",
       "</table>\n",
       "</div>"
      ],
      "text/plain": [
       "     SKU  year  week_num  ret_net_code  price_per_sku\n",
       "0  84395  2019        18             1       164.6940\n",
       "1  84395  2019        18             2       164.6940\n",
       "2  84395  2019        18             3       134.5001"
      ]
     },
     "execution_count": 12,
     "metadata": {},
     "output_type": "execute_result"
    }
   ],
   "source": [
    "conc_df[:3]"
   ]
  },
  {
   "cell_type": "code",
   "execution_count": 13,
   "id": "93e34ae8-be1b-4889-9a03-d3654488601b",
   "metadata": {},
   "outputs": [
    {
     "data": {
      "text/html": [
       "<div>\n",
       "<style scoped>\n",
       "    .dataframe tbody tr th:only-of-type {\n",
       "        vertical-align: middle;\n",
       "    }\n",
       "\n",
       "    .dataframe tbody tr th {\n",
       "        vertical-align: top;\n",
       "    }\n",
       "\n",
       "    .dataframe thead th {\n",
       "        text-align: right;\n",
       "    }\n",
       "</style>\n",
       "<table border=\"1\" class=\"dataframe\">\n",
       "  <thead>\n",
       "    <tr style=\"text-align: right;\">\n",
       "      <th></th>\n",
       "      <th>dates</th>\n",
       "      <th>SKU</th>\n",
       "      <th>price_per_sku</th>\n",
       "      <th>num_purchases</th>\n",
       "    </tr>\n",
       "  </thead>\n",
       "  <tbody>\n",
       "    <tr>\n",
       "      <th>0</th>\n",
       "      <td>2018-11-17</td>\n",
       "      <td>54404</td>\n",
       "      <td>80.095</td>\n",
       "      <td>11</td>\n",
       "    </tr>\n",
       "    <tr>\n",
       "      <th>1</th>\n",
       "      <td>2018-11-18</td>\n",
       "      <td>54404</td>\n",
       "      <td>80.095</td>\n",
       "      <td>12</td>\n",
       "    </tr>\n",
       "    <tr>\n",
       "      <th>2</th>\n",
       "      <td>2018-11-19</td>\n",
       "      <td>54404</td>\n",
       "      <td>81.796</td>\n",
       "      <td>10</td>\n",
       "    </tr>\n",
       "  </tbody>\n",
       "</table>\n",
       "</div>"
      ],
      "text/plain": [
       "        dates    SKU  price_per_sku  num_purchases\n",
       "0  2018-11-17  54404         80.095             11\n",
       "1  2018-11-18  54404         80.095             12\n",
       "2  2018-11-19  54404         81.796             10"
      ]
     },
     "execution_count": 13,
     "metadata": {},
     "output_type": "execute_result"
    }
   ],
   "source": [
    "df_1510003[:3]"
   ]
  },
  {
   "cell_type": "code",
   "execution_count": 14,
   "id": "61059145-e587-4721-aa11-adecbe6a0e15",
   "metadata": {},
   "outputs": [
    {
     "data": {
      "text/html": [
       "<div>\n",
       "<style scoped>\n",
       "    .dataframe tbody tr th:only-of-type {\n",
       "        vertical-align: middle;\n",
       "    }\n",
       "\n",
       "    .dataframe tbody tr th {\n",
       "        vertical-align: top;\n",
       "    }\n",
       "\n",
       "    .dataframe thead th {\n",
       "        text-align: right;\n",
       "    }\n",
       "</style>\n",
       "<table border=\"1\" class=\"dataframe\">\n",
       "  <thead>\n",
       "    <tr style=\"text-align: right;\">\n",
       "      <th></th>\n",
       "      <th>dates</th>\n",
       "      <th>SKU</th>\n",
       "      <th>price_per_sku</th>\n",
       "      <th>num_purchases</th>\n",
       "    </tr>\n",
       "  </thead>\n",
       "  <tbody>\n",
       "    <tr>\n",
       "      <th>0</th>\n",
       "      <td>2018-01-24</td>\n",
       "      <td>72784</td>\n",
       "      <td>124.294</td>\n",
       "      <td>9</td>\n",
       "    </tr>\n",
       "    <tr>\n",
       "      <th>1</th>\n",
       "      <td>2018-01-25</td>\n",
       "      <td>72784</td>\n",
       "      <td>124.294</td>\n",
       "      <td>9</td>\n",
       "    </tr>\n",
       "    <tr>\n",
       "      <th>2</th>\n",
       "      <td>2018-01-27</td>\n",
       "      <td>72784</td>\n",
       "      <td>124.294</td>\n",
       "      <td>7</td>\n",
       "    </tr>\n",
       "  </tbody>\n",
       "</table>\n",
       "</div>"
      ],
      "text/plain": [
       "        dates    SKU  price_per_sku  num_purchases\n",
       "0  2018-01-24  72784        124.294              9\n",
       "1  2018-01-25  72784        124.294              9\n",
       "2  2018-01-27  72784        124.294              7"
      ]
     },
     "execution_count": 14,
     "metadata": {},
     "output_type": "execute_result"
    }
   ],
   "source": [
    "df_1510002[:3]"
   ]
  },
  {
   "cell_type": "code",
   "execution_count": 15,
   "id": "ec1fd321-095b-4588-94aa-afa9f91e06dc",
   "metadata": {},
   "outputs": [
    {
     "data": {
      "text/html": [
       "<div>\n",
       "<style scoped>\n",
       "    .dataframe tbody tr th:only-of-type {\n",
       "        vertical-align: middle;\n",
       "    }\n",
       "\n",
       "    .dataframe tbody tr th {\n",
       "        vertical-align: top;\n",
       "    }\n",
       "\n",
       "    .dataframe thead th {\n",
       "        text-align: right;\n",
       "    }\n",
       "</style>\n",
       "<table border=\"1\" class=\"dataframe\">\n",
       "  <thead>\n",
       "    <tr style=\"text-align: right;\">\n",
       "      <th></th>\n",
       "      <th>dates</th>\n",
       "      <th>SKU</th>\n",
       "      <th>price_per_sku</th>\n",
       "      <th>num_purchases</th>\n",
       "    </tr>\n",
       "  </thead>\n",
       "  <tbody>\n",
       "    <tr>\n",
       "      <th>0</th>\n",
       "      <td>2018-08-02</td>\n",
       "      <td>39665</td>\n",
       "      <td>85.94</td>\n",
       "      <td>1</td>\n",
       "    </tr>\n",
       "    <tr>\n",
       "      <th>1</th>\n",
       "      <td>2018-08-03</td>\n",
       "      <td>39665</td>\n",
       "      <td>85.94</td>\n",
       "      <td>1</td>\n",
       "    </tr>\n",
       "    <tr>\n",
       "      <th>2</th>\n",
       "      <td>2018-08-04</td>\n",
       "      <td>39665</td>\n",
       "      <td>85.94</td>\n",
       "      <td>1</td>\n",
       "    </tr>\n",
       "  </tbody>\n",
       "</table>\n",
       "</div>"
      ],
      "text/plain": [
       "        dates    SKU  price_per_sku  num_purchases\n",
       "0  2018-08-02  39665          85.94              1\n",
       "1  2018-08-03  39665          85.94              1\n",
       "2  2018-08-04  39665          85.94              1"
      ]
     },
     "execution_count": 15,
     "metadata": {},
     "output_type": "execute_result"
    }
   ],
   "source": [
    "df_1510001[:3]"
   ]
  },
  {
   "cell_type": "code",
   "execution_count": 16,
   "id": "595059df-c617-4ed3-b2cf-077816ec85b0",
   "metadata": {},
   "outputs": [
    {
     "data": {
      "text/html": [
       "<div>\n",
       "<style scoped>\n",
       "    .dataframe tbody tr th:only-of-type {\n",
       "        vertical-align: middle;\n",
       "    }\n",
       "\n",
       "    .dataframe tbody tr th {\n",
       "        vertical-align: top;\n",
       "    }\n",
       "\n",
       "    .dataframe thead th {\n",
       "        text-align: right;\n",
       "    }\n",
       "</style>\n",
       "<table border=\"1\" class=\"dataframe\">\n",
       "  <thead>\n",
       "    <tr style=\"text-align: right;\">\n",
       "      <th></th>\n",
       "      <th>dates</th>\n",
       "      <th>SKU</th>\n",
       "      <th>price_per_sku</th>\n",
       "      <th>num_purchases</th>\n",
       "    </tr>\n",
       "  </thead>\n",
       "  <tbody>\n",
       "    <tr>\n",
       "      <th>0</th>\n",
       "      <td>2018-04-20</td>\n",
       "      <td>59567</td>\n",
       "      <td>169.19</td>\n",
       "      <td>3</td>\n",
       "    </tr>\n",
       "    <tr>\n",
       "      <th>1</th>\n",
       "      <td>2018-04-24</td>\n",
       "      <td>59567</td>\n",
       "      <td>171.71</td>\n",
       "      <td>3</td>\n",
       "    </tr>\n",
       "    <tr>\n",
       "      <th>2</th>\n",
       "      <td>2018-04-27</td>\n",
       "      <td>59567</td>\n",
       "      <td>174.04</td>\n",
       "      <td>3</td>\n",
       "    </tr>\n",
       "  </tbody>\n",
       "</table>\n",
       "</div>"
      ],
      "text/plain": [
       "        dates    SKU  price_per_sku  num_purchases\n",
       "0  2018-04-20  59567         169.19              3\n",
       "1  2018-04-24  59567         171.71              3\n",
       "2  2018-04-27  59567         174.04              3"
      ]
     },
     "execution_count": 16,
     "metadata": {},
     "output_type": "execute_result"
    }
   ],
   "source": [
    "ZX_df[:3]"
   ]
  },
  {
   "cell_type": "markdown",
   "id": "313c5a1a-ac9c-4e60-84e1-a5345c0be71d",
   "metadata": {},
   "source": [
    "## Data preprocessing"
   ]
  },
  {
   "cell_type": "code",
   "execution_count": 17,
   "id": "c9d59160-fc3e-4239-bc27-1654c9e3546c",
   "metadata": {},
   "outputs": [],
   "source": [
    "all_data = pd.concat([df_1510001, df_1510002, df_1510003, ZX_df], axis = 0 )"
   ]
  },
  {
   "cell_type": "code",
   "execution_count": 18,
   "id": "f9e57e4f-2488-4941-a677-45e883ec8143",
   "metadata": {},
   "outputs": [],
   "source": [
    "all_data.dates = pd.to_datetime(all_data.dates)"
   ]
  },
  {
   "cell_type": "code",
   "execution_count": 19,
   "id": "469fcaf2-3701-4b6e-a625-751459dabf50",
   "metadata": {},
   "outputs": [],
   "source": [
    "all_data['Mon_Year']=all_data['dates'].dt.strftime('%b-%Y')"
   ]
  },
  {
   "cell_type": "code",
   "execution_count": 20,
   "id": "a6e85bea-92f1-4696-9398-543e09bdc5be",
   "metadata": {},
   "outputs": [
    {
     "data": {
      "text/html": [
       "<div>\n",
       "<style scoped>\n",
       "    .dataframe tbody tr th:only-of-type {\n",
       "        vertical-align: middle;\n",
       "    }\n",
       "\n",
       "    .dataframe tbody tr th {\n",
       "        vertical-align: top;\n",
       "    }\n",
       "\n",
       "    .dataframe thead th {\n",
       "        text-align: right;\n",
       "    }\n",
       "</style>\n",
       "<table border=\"1\" class=\"dataframe\">\n",
       "  <thead>\n",
       "    <tr style=\"text-align: right;\">\n",
       "      <th></th>\n",
       "      <th>dates</th>\n",
       "      <th>SKU</th>\n",
       "      <th>price_per_sku</th>\n",
       "      <th>num_purchases</th>\n",
       "      <th>Mon_Year</th>\n",
       "    </tr>\n",
       "  </thead>\n",
       "  <tbody>\n",
       "    <tr>\n",
       "      <th>0</th>\n",
       "      <td>2018-08-02</td>\n",
       "      <td>39665</td>\n",
       "      <td>85.940</td>\n",
       "      <td>1</td>\n",
       "      <td>Aug-2018</td>\n",
       "    </tr>\n",
       "    <tr>\n",
       "      <th>1</th>\n",
       "      <td>2018-08-03</td>\n",
       "      <td>39665</td>\n",
       "      <td>85.940</td>\n",
       "      <td>1</td>\n",
       "      <td>Aug-2018</td>\n",
       "    </tr>\n",
       "    <tr>\n",
       "      <th>2</th>\n",
       "      <td>2018-08-04</td>\n",
       "      <td>39665</td>\n",
       "      <td>85.940</td>\n",
       "      <td>1</td>\n",
       "      <td>Aug-2018</td>\n",
       "    </tr>\n",
       "    <tr>\n",
       "      <th>3</th>\n",
       "      <td>2018-08-05</td>\n",
       "      <td>39665</td>\n",
       "      <td>85.940</td>\n",
       "      <td>1</td>\n",
       "      <td>Aug-2018</td>\n",
       "    </tr>\n",
       "    <tr>\n",
       "      <th>4</th>\n",
       "      <td>2018-08-06</td>\n",
       "      <td>39665</td>\n",
       "      <td>86.038</td>\n",
       "      <td>1</td>\n",
       "      <td>Aug-2018</td>\n",
       "    </tr>\n",
       "  </tbody>\n",
       "</table>\n",
       "</div>"
      ],
      "text/plain": [
       "       dates    SKU  price_per_sku  num_purchases  Mon_Year\n",
       "0 2018-08-02  39665         85.940              1  Aug-2018\n",
       "1 2018-08-03  39665         85.940              1  Aug-2018\n",
       "2 2018-08-04  39665         85.940              1  Aug-2018\n",
       "3 2018-08-05  39665         85.940              1  Aug-2018\n",
       "4 2018-08-06  39665         86.038              1  Aug-2018"
      ]
     },
     "execution_count": 20,
     "metadata": {},
     "output_type": "execute_result"
    }
   ],
   "source": [
    "all_data.head()"
   ]
  },
  {
   "cell_type": "code",
   "execution_count": 21,
   "id": "f297e801-1b64-4501-96a0-409cae3a1a18",
   "metadata": {},
   "outputs": [],
   "source": [
    "all_data.Mon_Year=pd.to_datetime(all_data.Mon_Year)"
   ]
  },
  {
   "cell_type": "code",
   "execution_count": 22,
   "id": "824d61b7-73aa-47e9-b8c2-6ad10f36c9f1",
   "metadata": {},
   "outputs": [
    {
     "data": {
      "text/plain": [
       "Mon_Year\n",
       "2018-01-01     131\n",
       "2018-02-01     639\n",
       "2018-03-01    1108\n",
       "2018-04-01    1479\n",
       "2018-05-01    2166\n",
       "2018-06-01    2097\n",
       "2018-07-01    2213\n",
       "2018-08-01    2416\n",
       "2018-09-01    2439\n",
       "2018-10-01    2630\n",
       "2018-11-01    2669\n",
       "2018-12-01    3209\n",
       "2019-01-01    2883\n",
       "2019-02-01    2691\n",
       "2019-03-01    2829\n",
       "2019-04-01    2825\n",
       "2019-05-01    2892\n",
       "2019-06-01    2844\n",
       "2019-07-01    2964\n",
       "2019-08-01    3319\n",
       "2019-09-01    3283\n",
       "2019-10-01    3220\n",
       "2019-11-01    3165\n",
       "2019-12-01    3343\n",
       "Name: num_purchases, dtype: int64"
      ]
     },
     "execution_count": 22,
     "metadata": {},
     "output_type": "execute_result"
    }
   ],
   "source": [
    "all_data.groupby('Mon_Year').num_purchases.sum()"
   ]
  },
  {
   "cell_type": "code",
   "execution_count": 23,
   "id": "fe91745d-5e86-4b59-80f6-2167e8bfe4c1",
   "metadata": {},
   "outputs": [
    {
     "data": {
      "text/plain": [
       "10890"
      ]
     },
     "execution_count": 23,
     "metadata": {},
     "output_type": "execute_result"
    }
   ],
   "source": [
    "len(all_data)"
   ]
  },
  {
   "cell_type": "code",
   "execution_count": 24,
   "id": "8ed8dc4d-b65e-4d74-8537-292005808e04",
   "metadata": {},
   "outputs": [
    {
     "data": {
      "text/plain": [
       "Timestamp('2018-01-17 00:00:00')"
      ]
     },
     "execution_count": 24,
     "metadata": {},
     "output_type": "execute_result"
    }
   ],
   "source": [
    "all_data.groupby('dates').num_purchases.sum().index.min()"
   ]
  },
  {
   "cell_type": "code",
   "execution_count": 25,
   "id": "9feb540e-58f4-4c24-804f-3d4156feb5a2",
   "metadata": {},
   "outputs": [
    {
     "data": {
      "text/plain": [
       "Timestamp('2019-12-31 00:00:00')"
      ]
     },
     "execution_count": 25,
     "metadata": {},
     "output_type": "execute_result"
    }
   ],
   "source": [
    "all_data.groupby('dates').num_purchases.sum().index.max()"
   ]
  },
  {
   "cell_type": "markdown",
   "id": "e91bc248-812c-4946-9468-c775a1929566",
   "metadata": {},
   "source": [
    "* График спроса по месяцам "
   ]
  },
  {
   "cell_type": "code",
   "execution_count": 26,
   "id": "146e6f25-af39-4d78-89b5-50087af0f70d",
   "metadata": {},
   "outputs": [
    {
     "data": {
      "image/png": "[encoded data removed]",
      "text/plain": [
       "<Figure size 1500x400 with 1 Axes>"
      ]
     },
     "metadata": {},
     "output_type": "display_data"
    }
   ],
   "source": [
    "plt.figure(figsize=(15, 4))\n",
    "plt.plot(all_data.groupby('Mon_Year').num_purchases.sum().index, all_data.groupby('Mon_Year').num_purchases.sum().values)\n",
    "plt.xticks(rotation=40)\n",
    "plt.ylabel(\"Спрос\")\n",
    "plt.grid()\n",
    "plt.title('Спрос по месяцам 2018-2019 годы')\n",
    "plt.show()"
   ]
  },
  {
   "cell_type": "markdown",
   "id": "24c647a6-ddda-447d-bee5-75de4a207f87",
   "metadata": {},
   "source": [
    "* график очень сильно растет с января 2018 по декабрь 2018\n",
    "* возьмем только данные с октября 2018 года для дальнейшей работы"
   ]
  },
  {
   "cell_type": "code",
   "execution_count": 27,
   "id": "d2b191dd-e223-4a1a-aad3-3b3c626ebc6a",
   "metadata": {},
   "outputs": [],
   "source": [
    "all_data_2019=all_data[all_data.dates>='2018-10-01']"
   ]
  },
  {
   "cell_type": "code",
   "execution_count": 28,
   "id": "0aa4af21-bc5d-4439-a051-9051bc3b39dc",
   "metadata": {},
   "outputs": [
    {
     "data": {
      "text/plain": [
       "8770"
      ]
     },
     "execution_count": 28,
     "metadata": {},
     "output_type": "execute_result"
    }
   ],
   "source": [
    "len(all_data_2019)"
   ]
  },
  {
   "cell_type": "code",
   "execution_count": 29,
   "id": "2457997e-b8e6-44b2-80f4-710eda3c9ac4",
   "metadata": {},
   "outputs": [],
   "source": [
    "all_purch= all_data_2019.pivot_table(index='dates',columns='SKU', values='num_purchases')"
   ]
  },
  {
   "cell_type": "code",
   "execution_count": 30,
   "id": "fa642ba9-93c3-4f15-bf47-a891ede1a79e",
   "metadata": {},
   "outputs": [
    {
     "data": {
      "text/plain": [
       "(457, 39)"
      ]
     },
     "execution_count": 30,
     "metadata": {},
     "output_type": "execute_result"
    }
   ],
   "source": [
    "all_purch.shape"
   ]
  },
  {
   "cell_type": "code",
   "execution_count": 31,
   "id": "d66bef92-3af7-46b3-838c-f2f916637d40",
   "metadata": {},
   "outputs": [
    {
     "data": {
      "text/html": [
       "<div>\n",
       "<style scoped>\n",
       "    .dataframe tbody tr th:only-of-type {\n",
       "        vertical-align: middle;\n",
       "    }\n",
       "\n",
       "    .dataframe tbody tr th {\n",
       "        vertical-align: top;\n",
       "    }\n",
       "\n",
       "    .dataframe thead th {\n",
       "        text-align: right;\n",
       "    }\n",
       "</style>\n",
       "<table border=\"1\" class=\"dataframe\">\n",
       "  <thead>\n",
       "    <tr style=\"text-align: right;\">\n",
       "      <th>SKU</th>\n",
       "      <th>10334</th>\n",
       "      <th>11050</th>\n",
       "      <th>17812</th>\n",
       "      <th>19632</th>\n",
       "      <th>24125</th>\n",
       "      <th>27240</th>\n",
       "      <th>27885</th>\n",
       "      <th>34130</th>\n",
       "      <th>36096</th>\n",
       "      <th>36108</th>\n",
       "      <th>...</th>\n",
       "      <th>72449</th>\n",
       "      <th>72784</th>\n",
       "      <th>80308</th>\n",
       "      <th>80631</th>\n",
       "      <th>82947</th>\n",
       "      <th>83329</th>\n",
       "      <th>84395</th>\n",
       "      <th>89272</th>\n",
       "      <th>90611</th>\n",
       "      <th>98255</th>\n",
       "    </tr>\n",
       "    <tr>\n",
       "      <th>dates</th>\n",
       "      <th></th>\n",
       "      <th></th>\n",
       "      <th></th>\n",
       "      <th></th>\n",
       "      <th></th>\n",
       "      <th></th>\n",
       "      <th></th>\n",
       "      <th></th>\n",
       "      <th></th>\n",
       "      <th></th>\n",
       "      <th></th>\n",
       "      <th></th>\n",
       "      <th></th>\n",
       "      <th></th>\n",
       "      <th></th>\n",
       "      <th></th>\n",
       "      <th></th>\n",
       "      <th></th>\n",
       "      <th></th>\n",
       "      <th></th>\n",
       "      <th></th>\n",
       "    </tr>\n",
       "  </thead>\n",
       "  <tbody>\n",
       "    <tr>\n",
       "      <th>2018-10-01</th>\n",
       "      <td>11.0</td>\n",
       "      <td>9.0</td>\n",
       "      <td>4.0</td>\n",
       "      <td>NaN</td>\n",
       "      <td>NaN</td>\n",
       "      <td>NaN</td>\n",
       "      <td>NaN</td>\n",
       "      <td>2.0</td>\n",
       "      <td>NaN</td>\n",
       "      <td>NaN</td>\n",
       "      <td>...</td>\n",
       "      <td>NaN</td>\n",
       "      <td>9.0</td>\n",
       "      <td>NaN</td>\n",
       "      <td>NaN</td>\n",
       "      <td>1.0</td>\n",
       "      <td>NaN</td>\n",
       "      <td>10.0</td>\n",
       "      <td>7.0</td>\n",
       "      <td>5.0</td>\n",
       "      <td>NaN</td>\n",
       "    </tr>\n",
       "    <tr>\n",
       "      <th>2018-10-02</th>\n",
       "      <td>11.0</td>\n",
       "      <td>NaN</td>\n",
       "      <td>5.0</td>\n",
       "      <td>NaN</td>\n",
       "      <td>NaN</td>\n",
       "      <td>NaN</td>\n",
       "      <td>2.0</td>\n",
       "      <td>1.0</td>\n",
       "      <td>NaN</td>\n",
       "      <td>NaN</td>\n",
       "      <td>...</td>\n",
       "      <td>NaN</td>\n",
       "      <td>8.0</td>\n",
       "      <td>NaN</td>\n",
       "      <td>NaN</td>\n",
       "      <td>1.0</td>\n",
       "      <td>NaN</td>\n",
       "      <td>10.0</td>\n",
       "      <td>8.0</td>\n",
       "      <td>6.0</td>\n",
       "      <td>7.0</td>\n",
       "    </tr>\n",
       "    <tr>\n",
       "      <th>2018-10-03</th>\n",
       "      <td>10.0</td>\n",
       "      <td>9.0</td>\n",
       "      <td>NaN</td>\n",
       "      <td>NaN</td>\n",
       "      <td>NaN</td>\n",
       "      <td>NaN</td>\n",
       "      <td>1.0</td>\n",
       "      <td>1.0</td>\n",
       "      <td>NaN</td>\n",
       "      <td>NaN</td>\n",
       "      <td>...</td>\n",
       "      <td>NaN</td>\n",
       "      <td>7.0</td>\n",
       "      <td>7.0</td>\n",
       "      <td>NaN</td>\n",
       "      <td>NaN</td>\n",
       "      <td>NaN</td>\n",
       "      <td>11.0</td>\n",
       "      <td>7.0</td>\n",
       "      <td>6.0</td>\n",
       "      <td>NaN</td>\n",
       "    </tr>\n",
       "    <tr>\n",
       "      <th>2018-10-04</th>\n",
       "      <td>NaN</td>\n",
       "      <td>9.0</td>\n",
       "      <td>4.0</td>\n",
       "      <td>NaN</td>\n",
       "      <td>NaN</td>\n",
       "      <td>NaN</td>\n",
       "      <td>NaN</td>\n",
       "      <td>1.0</td>\n",
       "      <td>NaN</td>\n",
       "      <td>NaN</td>\n",
       "      <td>...</td>\n",
       "      <td>NaN</td>\n",
       "      <td>8.0</td>\n",
       "      <td>9.0</td>\n",
       "      <td>NaN</td>\n",
       "      <td>1.0</td>\n",
       "      <td>NaN</td>\n",
       "      <td>12.0</td>\n",
       "      <td>8.0</td>\n",
       "      <td>NaN</td>\n",
       "      <td>NaN</td>\n",
       "    </tr>\n",
       "    <tr>\n",
       "      <th>2018-10-05</th>\n",
       "      <td>12.0</td>\n",
       "      <td>NaN</td>\n",
       "      <td>5.0</td>\n",
       "      <td>NaN</td>\n",
       "      <td>NaN</td>\n",
       "      <td>NaN</td>\n",
       "      <td>NaN</td>\n",
       "      <td>NaN</td>\n",
       "      <td>NaN</td>\n",
       "      <td>NaN</td>\n",
       "      <td>...</td>\n",
       "      <td>NaN</td>\n",
       "      <td>NaN</td>\n",
       "      <td>9.0</td>\n",
       "      <td>NaN</td>\n",
       "      <td>NaN</td>\n",
       "      <td>NaN</td>\n",
       "      <td>10.0</td>\n",
       "      <td>7.0</td>\n",
       "      <td>5.0</td>\n",
       "      <td>7.0</td>\n",
       "    </tr>\n",
       "  </tbody>\n",
       "</table>\n",
       "<p>5 rows × 39 columns</p>\n",
       "</div>"
      ],
      "text/plain": [
       "SKU         10334  11050  17812  19632  24125  27240  27885  34130  36096  \\\n",
       "dates                                                                       \n",
       "2018-10-01   11.0    9.0    4.0    NaN    NaN    NaN    NaN    2.0    NaN   \n",
       "2018-10-02   11.0    NaN    5.0    NaN    NaN    NaN    2.0    1.0    NaN   \n",
       "2018-10-03   10.0    9.0    NaN    NaN    NaN    NaN    1.0    1.0    NaN   \n",
       "2018-10-04    NaN    9.0    4.0    NaN    NaN    NaN    NaN    1.0    NaN   \n",
       "2018-10-05   12.0    NaN    5.0    NaN    NaN    NaN    NaN    NaN    NaN   \n",
       "\n",
       "SKU         36108  ...  72449  72784  80308  80631  82947  83329  84395  \\\n",
       "dates              ...                                                    \n",
       "2018-10-01    NaN  ...    NaN    9.0    NaN    NaN    1.0    NaN   10.0   \n",
       "2018-10-02    NaN  ...    NaN    8.0    NaN    NaN    1.0    NaN   10.0   \n",
       "2018-10-03    NaN  ...    NaN    7.0    7.0    NaN    NaN    NaN   11.0   \n",
       "2018-10-04    NaN  ...    NaN    8.0    9.0    NaN    1.0    NaN   12.0   \n",
       "2018-10-05    NaN  ...    NaN    NaN    9.0    NaN    NaN    NaN   10.0   \n",
       "\n",
       "SKU         89272  90611  98255  \n",
       "dates                            \n",
       "2018-10-01    7.0    5.0    NaN  \n",
       "2018-10-02    8.0    6.0    7.0  \n",
       "2018-10-03    7.0    6.0    NaN  \n",
       "2018-10-04    8.0    NaN    NaN  \n",
       "2018-10-05    7.0    5.0    7.0  \n",
       "\n",
       "[5 rows x 39 columns]"
      ]
     },
     "execution_count": 31,
     "metadata": {},
     "output_type": "execute_result"
    }
   ],
   "source": [
    "all_purch[:5]"
   ]
  },
  {
   "cell_type": "code",
   "execution_count": 32,
   "id": "350daacb-2f95-43ce-afdd-4b006d5df613",
   "metadata": {},
   "outputs": [
    {
     "name": "stdout",
     "output_type": "stream",
     "text": [
      "<class 'pandas.core.frame.DataFrame'>\n",
      "DatetimeIndex: 457 entries, 2018-10-01 to 2019-12-31\n",
      "Data columns (total 39 columns):\n",
      " #   Column  Non-Null Count  Dtype  \n",
      "---  ------  --------------  -----  \n",
      " 0   10334   330 non-null    float64\n",
      " 1   11050   319 non-null    float64\n",
      " 2   17812   310 non-null    float64\n",
      " 3   19632   92 non-null     float64\n",
      " 4   24125   52 non-null     float64\n",
      " 5   27240   121 non-null    float64\n",
      " 6   27885   204 non-null    float64\n",
      " 7   34130   308 non-null    float64\n",
      " 8   36096   102 non-null    float64\n",
      " 9   36108   265 non-null    float64\n",
      " 10  38767   312 non-null    float64\n",
      " 11  39665   312 non-null    float64\n",
      " 12  40194   267 non-null    float64\n",
      " 13  43678   261 non-null    float64\n",
      " 14  45164   317 non-null    float64\n",
      " 15  48671   305 non-null    float64\n",
      " 16  49596   184 non-null    float64\n",
      " 17  49661   226 non-null    float64\n",
      " 18  54404   272 non-null    float64\n",
      " 19  57561   278 non-null    float64\n",
      " 20  59567   93 non-null     float64\n",
      " 21  59631   183 non-null    float64\n",
      " 22  60870   131 non-null    float64\n",
      " 23  63995   312 non-null    float64\n",
      " 24  64619   109 non-null    float64\n",
      " 25  68211   108 non-null    float64\n",
      " 26  69997   63 non-null     float64\n",
      " 27  70252   325 non-null    float64\n",
      " 28  70315   325 non-null    float64\n",
      " 29  72449   50 non-null     float64\n",
      " 30  72784   329 non-null    float64\n",
      " 31  80308   332 non-null    float64\n",
      " 32  80631   170 non-null    float64\n",
      " 33  82947   102 non-null    float64\n",
      " 34  83329   293 non-null    float64\n",
      " 35  84395   319 non-null    float64\n",
      " 36  89272   315 non-null    float64\n",
      " 37  90611   319 non-null    float64\n",
      " 38  98255   55 non-null     float64\n",
      "dtypes: float64(39)\n",
      "memory usage: 142.8 KB\n"
     ]
    }
   ],
   "source": [
    "all_purch.info()"
   ]
  },
  {
   "cell_type": "code",
   "execution_count": 33,
   "id": "3c7cedc1-61b6-4488-9ff2-5cd38f03bde0",
   "metadata": {},
   "outputs": [
    {
     "data": {
      "text/html": [
       "<div>\n",
       "<style scoped>\n",
       "    .dataframe tbody tr th:only-of-type {\n",
       "        vertical-align: middle;\n",
       "    }\n",
       "\n",
       "    .dataframe tbody tr th {\n",
       "        vertical-align: top;\n",
       "    }\n",
       "\n",
       "    .dataframe thead th {\n",
       "        text-align: right;\n",
       "    }\n",
       "</style>\n",
       "<table border=\"1\" class=\"dataframe\">\n",
       "  <thead>\n",
       "    <tr style=\"text-align: right;\">\n",
       "      <th></th>\n",
       "      <th>dates</th>\n",
       "      <th>SKU</th>\n",
       "      <th>price_per_sku</th>\n",
       "      <th>num_purchases</th>\n",
       "      <th>Mon_Year</th>\n",
       "    </tr>\n",
       "  </thead>\n",
       "  <tbody>\n",
       "    <tr>\n",
       "      <th>42</th>\n",
       "      <td>2018-10-01</td>\n",
       "      <td>39665</td>\n",
       "      <td>87.368</td>\n",
       "      <td>2</td>\n",
       "      <td>2018-10-01</td>\n",
       "    </tr>\n",
       "    <tr>\n",
       "      <th>43</th>\n",
       "      <td>2018-10-02</td>\n",
       "      <td>39665</td>\n",
       "      <td>87.368</td>\n",
       "      <td>1</td>\n",
       "      <td>2018-10-01</td>\n",
       "    </tr>\n",
       "    <tr>\n",
       "      <th>44</th>\n",
       "      <td>2018-10-03</td>\n",
       "      <td>39665</td>\n",
       "      <td>87.368</td>\n",
       "      <td>2</td>\n",
       "      <td>2018-10-01</td>\n",
       "    </tr>\n",
       "    <tr>\n",
       "      <th>45</th>\n",
       "      <td>2018-10-06</td>\n",
       "      <td>39665</td>\n",
       "      <td>87.368</td>\n",
       "      <td>3</td>\n",
       "      <td>2018-10-01</td>\n",
       "    </tr>\n",
       "    <tr>\n",
       "      <th>46</th>\n",
       "      <td>2018-10-07</td>\n",
       "      <td>39665</td>\n",
       "      <td>87.368</td>\n",
       "      <td>2</td>\n",
       "      <td>2018-10-01</td>\n",
       "    </tr>\n",
       "  </tbody>\n",
       "</table>\n",
       "</div>"
      ],
      "text/plain": [
       "        dates    SKU  price_per_sku  num_purchases   Mon_Year\n",
       "42 2018-10-01  39665         87.368              2 2018-10-01\n",
       "43 2018-10-02  39665         87.368              1 2018-10-01\n",
       "44 2018-10-03  39665         87.368              2 2018-10-01\n",
       "45 2018-10-06  39665         87.368              3 2018-10-01\n",
       "46 2018-10-07  39665         87.368              2 2018-10-01"
      ]
     },
     "execution_count": 33,
     "metadata": {},
     "output_type": "execute_result"
    }
   ],
   "source": [
    "all_data_2019[:5]"
   ]
  },
  {
   "cell_type": "code",
   "execution_count": 34,
   "id": "690f193a-e73e-4b5d-96e9-f755016aef09",
   "metadata": {},
   "outputs": [
    {
     "data": {
      "text/plain": [
       "39"
      ]
     },
     "execution_count": 34,
     "metadata": {},
     "output_type": "execute_result"
    }
   ],
   "source": [
    "len(all_data.SKU.value_counts())"
   ]
  },
  {
   "cell_type": "code",
   "execution_count": 35,
   "id": "ed0d98e0-2050-44d0-bcbb-8ab397faf685",
   "metadata": {},
   "outputs": [
    {
     "data": {
      "text/plain": [
       "39"
      ]
     },
     "execution_count": 35,
     "metadata": {},
     "output_type": "execute_result"
    }
   ],
   "source": [
    "len(all_data_2019.SKU.value_counts())"
   ]
  },
  {
   "cell_type": "markdown",
   "id": "60f7a976-24de-4363-8d22-45d7dcbd483d",
   "metadata": {},
   "source": [
    "* всего 39 SKU, после уменьшения выборки SKU не потеряны"
   ]
  },
  {
   "cell_type": "markdown",
   "id": "6b1d5cde-8cec-4682-8fd3-578825d3bc70",
   "metadata": {},
   "source": [
    "Спрос по дням с октября 2018 года по конец 2019 года"
   ]
  },
  {
   "cell_type": "code",
   "execution_count": 36,
   "id": "4415c796-0875-496a-bb71-0ddd6fb9f55c",
   "metadata": {},
   "outputs": [
    {
     "data": {
      "image/png": "[encoded data removed]",
      "text/plain": [
       "<Figure size 1500x400 with 1 Axes>"
      ]
     },
     "metadata": {},
     "output_type": "display_data"
    }
   ],
   "source": [
    "plt.figure(figsize=(15, 4))\n",
    "plt.plot(all_data_2019.groupby('dates').num_purchases.sum().index, all_data_2019.groupby('dates').num_purchases.sum().values)\n",
    "plt.xticks(rotation=40)\n",
    "plt.ylabel(\"Спрос\")\n",
    "plt.grid()\n",
    "plt.title('Спрос по дням в течении 2019 года')\n",
    "plt.show()"
   ]
  },
  {
   "cell_type": "markdown",
   "id": "cd338339-eb26-40ac-baf0-66d9ae326dc7",
   "metadata": {},
   "source": [
    "## feature creation"
   ]
  },
  {
   "cell_type": "code",
   "execution_count": 37,
   "id": "e99cb663-abdf-4d9b-81b2-bcaeff27ef5e",
   "metadata": {},
   "outputs": [
    {
     "name": "stderr",
     "output_type": "stream",
     "text": [
      "C:\\Users\\darya\\AppData\\Local\\Temp\\ipykernel_18792\\4163607642.py:1: SettingWithCopyWarning: \n",
      "A value is trying to be set on a copy of a slice from a DataFrame.\n",
      "Try using .loc[row_indexer,col_indexer] = value instead\n",
      "\n",
      "See the caveats in the documentation: https://pandas.pydata.org/pandas-docs/stable/user_guide/indexing.html#returning-a-view-versus-a-copy\n",
      "  all_data_2019['month']= all_data_2019.dates.dt.month\n"
     ]
    }
   ],
   "source": [
    "all_data_2019['month']= all_data_2019.dates.dt.month"
   ]
  },
  {
   "cell_type": "code",
   "execution_count": 38,
   "id": "78c89209-5b7c-4aab-ac8e-213b0231593c",
   "metadata": {},
   "outputs": [
    {
     "name": "stderr",
     "output_type": "stream",
     "text": [
      "C:\\Users\\darya\\AppData\\Local\\Temp\\ipykernel_18792\\3127794706.py:1: SettingWithCopyWarning: \n",
      "A value is trying to be set on a copy of a slice from a DataFrame.\n",
      "Try using .loc[row_indexer,col_indexer] = value instead\n",
      "\n",
      "See the caveats in the documentation: https://pandas.pydata.org/pandas-docs/stable/user_guide/indexing.html#returning-a-view-versus-a-copy\n",
      "  all_data_2019['week_num']=all_data_2019.dates.dt.isocalendar().week\n"
     ]
    }
   ],
   "source": [
    "all_data_2019['week_num']=all_data_2019.dates.dt.isocalendar().week"
   ]
  },
  {
   "cell_type": "code",
   "execution_count": 39,
   "id": "0312a103-d098-4d0c-a74c-c7f34391adae",
   "metadata": {},
   "outputs": [
    {
     "name": "stderr",
     "output_type": "stream",
     "text": [
      "C:\\Users\\darya\\AppData\\Local\\Temp\\ipykernel_18792\\356706032.py:1: SettingWithCopyWarning: \n",
      "A value is trying to be set on a copy of a slice from a DataFrame.\n",
      "Try using .loc[row_indexer,col_indexer] = value instead\n",
      "\n",
      "See the caveats in the documentation: https://pandas.pydata.org/pandas-docs/stable/user_guide/indexing.html#returning-a-view-versus-a-copy\n",
      "  all_data_2019['weekday']=all_data_2019.dates.dt.weekday\n"
     ]
    }
   ],
   "source": [
    "all_data_2019['weekday']=all_data_2019.dates.dt.weekday"
   ]
  },
  {
   "cell_type": "code",
   "execution_count": 40,
   "id": "608ff3b1-f6dd-4620-81af-145b42cf6fad",
   "metadata": {},
   "outputs": [
    {
     "name": "stderr",
     "output_type": "stream",
     "text": [
      "C:\\Users\\darya\\AppData\\Local\\Temp\\ipykernel_18792\\2954220131.py:1: SettingWithCopyWarning: \n",
      "A value is trying to be set on a copy of a slice from a DataFrame.\n",
      "Try using .loc[row_indexer,col_indexer] = value instead\n",
      "\n",
      "See the caveats in the documentation: https://pandas.pydata.org/pandas-docs/stable/user_guide/indexing.html#returning-a-view-versus-a-copy\n",
      "  all_data_2019['quarter']=all_data_2019.dates.dt.quarter\n"
     ]
    }
   ],
   "source": [
    "all_data_2019['quarter']=all_data_2019.dates.dt.quarter"
   ]
  },
  {
   "cell_type": "code",
   "execution_count": 41,
   "id": "18988401-7875-4e56-bae3-d7099c86ea87",
   "metadata": {},
   "outputs": [
    {
     "name": "stderr",
     "output_type": "stream",
     "text": [
      "C:\\Users\\darya\\AppData\\Local\\Temp\\ipykernel_18792\\2707165267.py:1: SettingWithCopyWarning: \n",
      "A value is trying to be set on a copy of a slice from a DataFrame.\n",
      "Try using .loc[row_indexer,col_indexer] = value instead\n",
      "\n",
      "See the caveats in the documentation: https://pandas.pydata.org/pandas-docs/stable/user_guide/indexing.html#returning-a-view-versus-a-copy\n",
      "  all_data_2019['daysinmonth']=all_data_2019.dates.dt.daysinmonth\n"
     ]
    }
   ],
   "source": [
    "all_data_2019['daysinmonth']=all_data_2019.dates.dt.daysinmonth"
   ]
  },
  {
   "cell_type": "code",
   "execution_count": 42,
   "id": "d656e9fd-a05a-446e-828c-d8f7b0dd4261",
   "metadata": {},
   "outputs": [
    {
     "name": "stderr",
     "output_type": "stream",
     "text": [
      "C:\\Users\\darya\\AppData\\Local\\Temp\\ipykernel_18792\\4102286435.py:1: SettingWithCopyWarning: \n",
      "A value is trying to be set on a copy of a slice from a DataFrame.\n",
      "Try using .loc[row_indexer,col_indexer] = value instead\n",
      "\n",
      "See the caveats in the documentation: https://pandas.pydata.org/pandas-docs/stable/user_guide/indexing.html#returning-a-view-versus-a-copy\n",
      "  all_data_2019['year']=all_data_2019.dates.dt.year\n"
     ]
    }
   ],
   "source": [
    "all_data_2019['year']=all_data_2019.dates.dt.year"
   ]
  },
  {
   "cell_type": "code",
   "execution_count": 43,
   "id": "fd3c1f5e-d24a-4f9d-a63a-4a1200b895f3",
   "metadata": {},
   "outputs": [
    {
     "data": {
      "text/html": [
       "<div>\n",
       "<style scoped>\n",
       "    .dataframe tbody tr th:only-of-type {\n",
       "        vertical-align: middle;\n",
       "    }\n",
       "\n",
       "    .dataframe tbody tr th {\n",
       "        vertical-align: top;\n",
       "    }\n",
       "\n",
       "    .dataframe thead th {\n",
       "        text-align: right;\n",
       "    }\n",
       "</style>\n",
       "<table border=\"1\" class=\"dataframe\">\n",
       "  <thead>\n",
       "    <tr style=\"text-align: right;\">\n",
       "      <th></th>\n",
       "      <th>dates</th>\n",
       "      <th>SKU</th>\n",
       "      <th>price_per_sku</th>\n",
       "      <th>num_purchases</th>\n",
       "      <th>Mon_Year</th>\n",
       "      <th>month</th>\n",
       "      <th>week_num</th>\n",
       "      <th>weekday</th>\n",
       "      <th>quarter</th>\n",
       "      <th>daysinmonth</th>\n",
       "      <th>year</th>\n",
       "    </tr>\n",
       "  </thead>\n",
       "  <tbody>\n",
       "    <tr>\n",
       "      <th>42</th>\n",
       "      <td>2018-10-01</td>\n",
       "      <td>39665</td>\n",
       "      <td>87.368</td>\n",
       "      <td>2</td>\n",
       "      <td>2018-10-01</td>\n",
       "      <td>10</td>\n",
       "      <td>40</td>\n",
       "      <td>0</td>\n",
       "      <td>4</td>\n",
       "      <td>31</td>\n",
       "      <td>2018</td>\n",
       "    </tr>\n",
       "    <tr>\n",
       "      <th>43</th>\n",
       "      <td>2018-10-02</td>\n",
       "      <td>39665</td>\n",
       "      <td>87.368</td>\n",
       "      <td>1</td>\n",
       "      <td>2018-10-01</td>\n",
       "      <td>10</td>\n",
       "      <td>40</td>\n",
       "      <td>1</td>\n",
       "      <td>4</td>\n",
       "      <td>31</td>\n",
       "      <td>2018</td>\n",
       "    </tr>\n",
       "    <tr>\n",
       "      <th>44</th>\n",
       "      <td>2018-10-03</td>\n",
       "      <td>39665</td>\n",
       "      <td>87.368</td>\n",
       "      <td>2</td>\n",
       "      <td>2018-10-01</td>\n",
       "      <td>10</td>\n",
       "      <td>40</td>\n",
       "      <td>2</td>\n",
       "      <td>4</td>\n",
       "      <td>31</td>\n",
       "      <td>2018</td>\n",
       "    </tr>\n",
       "    <tr>\n",
       "      <th>45</th>\n",
       "      <td>2018-10-06</td>\n",
       "      <td>39665</td>\n",
       "      <td>87.368</td>\n",
       "      <td>3</td>\n",
       "      <td>2018-10-01</td>\n",
       "      <td>10</td>\n",
       "      <td>40</td>\n",
       "      <td>5</td>\n",
       "      <td>4</td>\n",
       "      <td>31</td>\n",
       "      <td>2018</td>\n",
       "    </tr>\n",
       "    <tr>\n",
       "      <th>46</th>\n",
       "      <td>2018-10-07</td>\n",
       "      <td>39665</td>\n",
       "      <td>87.368</td>\n",
       "      <td>2</td>\n",
       "      <td>2018-10-01</td>\n",
       "      <td>10</td>\n",
       "      <td>40</td>\n",
       "      <td>6</td>\n",
       "      <td>4</td>\n",
       "      <td>31</td>\n",
       "      <td>2018</td>\n",
       "    </tr>\n",
       "  </tbody>\n",
       "</table>\n",
       "</div>"
      ],
      "text/plain": [
       "        dates    SKU  price_per_sku  num_purchases   Mon_Year  month  \\\n",
       "42 2018-10-01  39665         87.368              2 2018-10-01     10   \n",
       "43 2018-10-02  39665         87.368              1 2018-10-01     10   \n",
       "44 2018-10-03  39665         87.368              2 2018-10-01     10   \n",
       "45 2018-10-06  39665         87.368              3 2018-10-01     10   \n",
       "46 2018-10-07  39665         87.368              2 2018-10-01     10   \n",
       "\n",
       "    week_num  weekday  quarter  daysinmonth  year  \n",
       "42        40        0        4           31  2018  \n",
       "43        40        1        4           31  2018  \n",
       "44        40        2        4           31  2018  \n",
       "45        40        5        4           31  2018  \n",
       "46        40        6        4           31  2018  "
      ]
     },
     "execution_count": 43,
     "metadata": {},
     "output_type": "execute_result"
    }
   ],
   "source": [
    "all_data_2019[:5]"
   ]
  },
  {
   "cell_type": "code",
   "execution_count": 44,
   "id": "72e1aa36-8683-4372-8c0a-bee9f310d258",
   "metadata": {},
   "outputs": [],
   "source": [
    "sku_dict=sku_dict.rename(columns={\"sku_id\": \"SKU\"})"
   ]
  },
  {
   "cell_type": "code",
   "execution_count": 45,
   "id": "c71846c6-97a1-48a1-8452-c39d6fdd4876",
   "metadata": {},
   "outputs": [
    {
     "data": {
      "text/html": [
       "<div>\n",
       "<style scoped>\n",
       "    .dataframe tbody tr th:only-of-type {\n",
       "        vertical-align: middle;\n",
       "    }\n",
       "\n",
       "    .dataframe tbody tr th {\n",
       "        vertical-align: top;\n",
       "    }\n",
       "\n",
       "    .dataframe thead th {\n",
       "        text-align: right;\n",
       "    }\n",
       "</style>\n",
       "<table border=\"1\" class=\"dataframe\">\n",
       "  <thead>\n",
       "    <tr style=\"text-align: right;\">\n",
       "      <th></th>\n",
       "      <th>dates</th>\n",
       "      <th>SKU</th>\n",
       "      <th>price_per_sku</th>\n",
       "      <th>num_purchases</th>\n",
       "      <th>Mon_Year</th>\n",
       "      <th>month</th>\n",
       "      <th>week_num</th>\n",
       "      <th>weekday</th>\n",
       "      <th>quarter</th>\n",
       "      <th>daysinmonth</th>\n",
       "      <th>year</th>\n",
       "    </tr>\n",
       "  </thead>\n",
       "  <tbody>\n",
       "    <tr>\n",
       "      <th>42</th>\n",
       "      <td>2018-10-01</td>\n",
       "      <td>39665</td>\n",
       "      <td>87.368</td>\n",
       "      <td>2</td>\n",
       "      <td>2018-10-01</td>\n",
       "      <td>10</td>\n",
       "      <td>40</td>\n",
       "      <td>0</td>\n",
       "      <td>4</td>\n",
       "      <td>31</td>\n",
       "      <td>2018</td>\n",
       "    </tr>\n",
       "    <tr>\n",
       "      <th>43</th>\n",
       "      <td>2018-10-02</td>\n",
       "      <td>39665</td>\n",
       "      <td>87.368</td>\n",
       "      <td>1</td>\n",
       "      <td>2018-10-01</td>\n",
       "      <td>10</td>\n",
       "      <td>40</td>\n",
       "      <td>1</td>\n",
       "      <td>4</td>\n",
       "      <td>31</td>\n",
       "      <td>2018</td>\n",
       "    </tr>\n",
       "    <tr>\n",
       "      <th>44</th>\n",
       "      <td>2018-10-03</td>\n",
       "      <td>39665</td>\n",
       "      <td>87.368</td>\n",
       "      <td>2</td>\n",
       "      <td>2018-10-01</td>\n",
       "      <td>10</td>\n",
       "      <td>40</td>\n",
       "      <td>2</td>\n",
       "      <td>4</td>\n",
       "      <td>31</td>\n",
       "      <td>2018</td>\n",
       "    </tr>\n",
       "    <tr>\n",
       "      <th>45</th>\n",
       "      <td>2018-10-06</td>\n",
       "      <td>39665</td>\n",
       "      <td>87.368</td>\n",
       "      <td>3</td>\n",
       "      <td>2018-10-01</td>\n",
       "      <td>10</td>\n",
       "      <td>40</td>\n",
       "      <td>5</td>\n",
       "      <td>4</td>\n",
       "      <td>31</td>\n",
       "      <td>2018</td>\n",
       "    </tr>\n",
       "    <tr>\n",
       "      <th>46</th>\n",
       "      <td>2018-10-07</td>\n",
       "      <td>39665</td>\n",
       "      <td>87.368</td>\n",
       "      <td>2</td>\n",
       "      <td>2018-10-01</td>\n",
       "      <td>10</td>\n",
       "      <td>40</td>\n",
       "      <td>6</td>\n",
       "      <td>4</td>\n",
       "      <td>31</td>\n",
       "      <td>2018</td>\n",
       "    </tr>\n",
       "    <tr>\n",
       "      <th>...</th>\n",
       "      <td>...</td>\n",
       "      <td>...</td>\n",
       "      <td>...</td>\n",
       "      <td>...</td>\n",
       "      <td>...</td>\n",
       "      <td>...</td>\n",
       "      <td>...</td>\n",
       "      <td>...</td>\n",
       "      <td>...</td>\n",
       "      <td>...</td>\n",
       "      <td>...</td>\n",
       "    </tr>\n",
       "    <tr>\n",
       "      <th>254</th>\n",
       "      <td>2019-12-23</td>\n",
       "      <td>82947</td>\n",
       "      <td>NaN</td>\n",
       "      <td>1</td>\n",
       "      <td>2019-12-01</td>\n",
       "      <td>12</td>\n",
       "      <td>52</td>\n",
       "      <td>0</td>\n",
       "      <td>4</td>\n",
       "      <td>31</td>\n",
       "      <td>2019</td>\n",
       "    </tr>\n",
       "    <tr>\n",
       "      <th>255</th>\n",
       "      <td>2019-12-24</td>\n",
       "      <td>82947</td>\n",
       "      <td>195.460</td>\n",
       "      <td>2</td>\n",
       "      <td>2019-12-01</td>\n",
       "      <td>12</td>\n",
       "      <td>52</td>\n",
       "      <td>1</td>\n",
       "      <td>4</td>\n",
       "      <td>31</td>\n",
       "      <td>2019</td>\n",
       "    </tr>\n",
       "    <tr>\n",
       "      <th>256</th>\n",
       "      <td>2019-12-25</td>\n",
       "      <td>82947</td>\n",
       "      <td>195.210</td>\n",
       "      <td>1</td>\n",
       "      <td>2019-12-01</td>\n",
       "      <td>12</td>\n",
       "      <td>52</td>\n",
       "      <td>2</td>\n",
       "      <td>4</td>\n",
       "      <td>31</td>\n",
       "      <td>2019</td>\n",
       "    </tr>\n",
       "    <tr>\n",
       "      <th>257</th>\n",
       "      <td>2019-12-26</td>\n",
       "      <td>82947</td>\n",
       "      <td>193.790</td>\n",
       "      <td>1</td>\n",
       "      <td>2019-12-01</td>\n",
       "      <td>12</td>\n",
       "      <td>52</td>\n",
       "      <td>3</td>\n",
       "      <td>4</td>\n",
       "      <td>31</td>\n",
       "      <td>2019</td>\n",
       "    </tr>\n",
       "    <tr>\n",
       "      <th>258</th>\n",
       "      <td>2019-12-28</td>\n",
       "      <td>82947</td>\n",
       "      <td>194.780</td>\n",
       "      <td>1</td>\n",
       "      <td>2019-12-01</td>\n",
       "      <td>12</td>\n",
       "      <td>52</td>\n",
       "      <td>5</td>\n",
       "      <td>4</td>\n",
       "      <td>31</td>\n",
       "      <td>2019</td>\n",
       "    </tr>\n",
       "  </tbody>\n",
       "</table>\n",
       "<p>8770 rows × 11 columns</p>\n",
       "</div>"
      ],
      "text/plain": [
       "         dates    SKU  price_per_sku  num_purchases   Mon_Year  month  \\\n",
       "42  2018-10-01  39665         87.368              2 2018-10-01     10   \n",
       "43  2018-10-02  39665         87.368              1 2018-10-01     10   \n",
       "44  2018-10-03  39665         87.368              2 2018-10-01     10   \n",
       "45  2018-10-06  39665         87.368              3 2018-10-01     10   \n",
       "46  2018-10-07  39665         87.368              2 2018-10-01     10   \n",
       "..         ...    ...            ...            ...        ...    ...   \n",
       "254 2019-12-23  82947            NaN              1 2019-12-01     12   \n",
       "255 2019-12-24  82947        195.460              2 2019-12-01     12   \n",
       "256 2019-12-25  82947        195.210              1 2019-12-01     12   \n",
       "257 2019-12-26  82947        193.790              1 2019-12-01     12   \n",
       "258 2019-12-28  82947        194.780              1 2019-12-01     12   \n",
       "\n",
       "     week_num  weekday  quarter  daysinmonth  year  \n",
       "42         40        0        4           31  2018  \n",
       "43         40        1        4           31  2018  \n",
       "44         40        2        4           31  2018  \n",
       "45         40        5        4           31  2018  \n",
       "46         40        6        4           31  2018  \n",
       "..        ...      ...      ...          ...   ...  \n",
       "254        52        0        4           31  2019  \n",
       "255        52        1        4           31  2019  \n",
       "256        52        2        4           31  2019  \n",
       "257        52        3        4           31  2019  \n",
       "258        52        5        4           31  2019  \n",
       "\n",
       "[8770 rows x 11 columns]"
      ]
     },
     "execution_count": 45,
     "metadata": {},
     "output_type": "execute_result"
    }
   ],
   "source": [
    "all_data_2019"
   ]
  },
  {
   "cell_type": "code",
   "execution_count": 46,
   "id": "0e1a8d74-cc3c-4a7c-8afd-2334241c3da8",
   "metadata": {},
   "outputs": [],
   "source": [
    "data_df1=all_data_2019.merge(sku_dict, how='left', on= ['SKU'])"
   ]
  },
  {
   "cell_type": "code",
   "execution_count": 47,
   "id": "69810944-fd6e-475e-864c-1935f10be461",
   "metadata": {},
   "outputs": [
    {
     "data": {
      "text/html": [
       "<div>\n",
       "<style scoped>\n",
       "    .dataframe tbody tr th:only-of-type {\n",
       "        vertical-align: middle;\n",
       "    }\n",
       "\n",
       "    .dataframe tbody tr th {\n",
       "        vertical-align: top;\n",
       "    }\n",
       "\n",
       "    .dataframe thead th {\n",
       "        text-align: right;\n",
       "    }\n",
       "</style>\n",
       "<table border=\"1\" class=\"dataframe\">\n",
       "  <thead>\n",
       "    <tr style=\"text-align: right;\">\n",
       "      <th></th>\n",
       "      <th>dates</th>\n",
       "      <th>SKU</th>\n",
       "      <th>price_per_sku</th>\n",
       "      <th>num_purchases</th>\n",
       "      <th>Mon_Year</th>\n",
       "      <th>month</th>\n",
       "      <th>week_num</th>\n",
       "      <th>weekday</th>\n",
       "      <th>quarter</th>\n",
       "      <th>daysinmonth</th>\n",
       "      <th>year</th>\n",
       "      <th>fincode</th>\n",
       "      <th>ui1_code</th>\n",
       "      <th>ui2_code</th>\n",
       "      <th>ui3_code</th>\n",
       "      <th>vendor</th>\n",
       "      <th>brand_code</th>\n",
       "      <th>creation_date</th>\n",
       "      <th>expiration_date</th>\n",
       "    </tr>\n",
       "  </thead>\n",
       "  <tbody>\n",
       "    <tr>\n",
       "      <th>0</th>\n",
       "      <td>2018-10-01</td>\n",
       "      <td>39665</td>\n",
       "      <td>87.368</td>\n",
       "      <td>2</td>\n",
       "      <td>2018-10-01</td>\n",
       "      <td>10</td>\n",
       "      <td>40</td>\n",
       "      <td>0</td>\n",
       "      <td>4</td>\n",
       "      <td>31</td>\n",
       "      <td>2018</td>\n",
       "      <td>15</td>\n",
       "      <td>151</td>\n",
       "      <td>15100</td>\n",
       "      <td>1510001</td>\n",
       "      <td>4O4WSH</td>\n",
       "      <td>UEKGPFHF</td>\n",
       "      <td>2018-08-01</td>\n",
       "      <td>2020-01-01 00:00:00</td>\n",
       "    </tr>\n",
       "    <tr>\n",
       "      <th>1</th>\n",
       "      <td>2018-10-02</td>\n",
       "      <td>39665</td>\n",
       "      <td>87.368</td>\n",
       "      <td>1</td>\n",
       "      <td>2018-10-01</td>\n",
       "      <td>10</td>\n",
       "      <td>40</td>\n",
       "      <td>1</td>\n",
       "      <td>4</td>\n",
       "      <td>31</td>\n",
       "      <td>2018</td>\n",
       "      <td>15</td>\n",
       "      <td>151</td>\n",
       "      <td>15100</td>\n",
       "      <td>1510001</td>\n",
       "      <td>4O4WSH</td>\n",
       "      <td>UEKGPFHF</td>\n",
       "      <td>2018-08-01</td>\n",
       "      <td>2020-01-01 00:00:00</td>\n",
       "    </tr>\n",
       "    <tr>\n",
       "      <th>2</th>\n",
       "      <td>2018-10-03</td>\n",
       "      <td>39665</td>\n",
       "      <td>87.368</td>\n",
       "      <td>2</td>\n",
       "      <td>2018-10-01</td>\n",
       "      <td>10</td>\n",
       "      <td>40</td>\n",
       "      <td>2</td>\n",
       "      <td>4</td>\n",
       "      <td>31</td>\n",
       "      <td>2018</td>\n",
       "      <td>15</td>\n",
       "      <td>151</td>\n",
       "      <td>15100</td>\n",
       "      <td>1510001</td>\n",
       "      <td>4O4WSH</td>\n",
       "      <td>UEKGPFHF</td>\n",
       "      <td>2018-08-01</td>\n",
       "      <td>2020-01-01 00:00:00</td>\n",
       "    </tr>\n",
       "    <tr>\n",
       "      <th>3</th>\n",
       "      <td>2018-10-06</td>\n",
       "      <td>39665</td>\n",
       "      <td>87.368</td>\n",
       "      <td>3</td>\n",
       "      <td>2018-10-01</td>\n",
       "      <td>10</td>\n",
       "      <td>40</td>\n",
       "      <td>5</td>\n",
       "      <td>4</td>\n",
       "      <td>31</td>\n",
       "      <td>2018</td>\n",
       "      <td>15</td>\n",
       "      <td>151</td>\n",
       "      <td>15100</td>\n",
       "      <td>1510001</td>\n",
       "      <td>4O4WSH</td>\n",
       "      <td>UEKGPFHF</td>\n",
       "      <td>2018-08-01</td>\n",
       "      <td>2020-01-01 00:00:00</td>\n",
       "    </tr>\n",
       "    <tr>\n",
       "      <th>4</th>\n",
       "      <td>2018-10-07</td>\n",
       "      <td>39665</td>\n",
       "      <td>87.368</td>\n",
       "      <td>2</td>\n",
       "      <td>2018-10-01</td>\n",
       "      <td>10</td>\n",
       "      <td>40</td>\n",
       "      <td>6</td>\n",
       "      <td>4</td>\n",
       "      <td>31</td>\n",
       "      <td>2018</td>\n",
       "      <td>15</td>\n",
       "      <td>151</td>\n",
       "      <td>15100</td>\n",
       "      <td>1510001</td>\n",
       "      <td>4O4WSH</td>\n",
       "      <td>UEKGPFHF</td>\n",
       "      <td>2018-08-01</td>\n",
       "      <td>2020-01-01 00:00:00</td>\n",
       "    </tr>\n",
       "  </tbody>\n",
       "</table>\n",
       "</div>"
      ],
      "text/plain": [
       "       dates    SKU  price_per_sku  num_purchases   Mon_Year  month  week_num  \\\n",
       "0 2018-10-01  39665         87.368              2 2018-10-01     10        40   \n",
       "1 2018-10-02  39665         87.368              1 2018-10-01     10        40   \n",
       "2 2018-10-03  39665         87.368              2 2018-10-01     10        40   \n",
       "3 2018-10-06  39665         87.368              3 2018-10-01     10        40   \n",
       "4 2018-10-07  39665         87.368              2 2018-10-01     10        40   \n",
       "\n",
       "   weekday  quarter  daysinmonth  year fincode ui1_code ui2_code ui3_code  \\\n",
       "0        0        4           31  2018      15      151    15100  1510001   \n",
       "1        1        4           31  2018      15      151    15100  1510001   \n",
       "2        2        4           31  2018      15      151    15100  1510001   \n",
       "3        5        4           31  2018      15      151    15100  1510001   \n",
       "4        6        4           31  2018      15      151    15100  1510001   \n",
       "\n",
       "   vendor brand_code creation_date      expiration_date  \n",
       "0  4O4WSH   UEKGPFHF    2018-08-01  2020-01-01 00:00:00  \n",
       "1  4O4WSH   UEKGPFHF    2018-08-01  2020-01-01 00:00:00  \n",
       "2  4O4WSH   UEKGPFHF    2018-08-01  2020-01-01 00:00:00  \n",
       "3  4O4WSH   UEKGPFHF    2018-08-01  2020-01-01 00:00:00  \n",
       "4  4O4WSH   UEKGPFHF    2018-08-01  2020-01-01 00:00:00  "
      ]
     },
     "execution_count": 47,
     "metadata": {},
     "output_type": "execute_result"
    }
   ],
   "source": [
    "data_df1[:5]"
   ]
  },
  {
   "cell_type": "code",
   "execution_count": 48,
   "id": "82ac6947-2504-441d-98b0-76185ff317f9",
   "metadata": {},
   "outputs": [
    {
     "data": {
      "text/plain": [
       "(8770, 19)"
      ]
     },
     "execution_count": 48,
     "metadata": {},
     "output_type": "execute_result"
    }
   ],
   "source": [
    "data_df1.shape"
   ]
  },
  {
   "cell_type": "code",
   "execution_count": 49,
   "id": "d3ce36a9-d743-49b6-bf03-616aac3bc0ba",
   "metadata": {},
   "outputs": [],
   "source": [
    "data_df = data_df1.merge(promo_df, how='left', on= ['SKU','week_num', 'year'])"
   ]
  },
  {
   "cell_type": "code",
   "execution_count": 50,
   "id": "83b24640-2daa-4231-878a-9bed2d405d12",
   "metadata": {},
   "outputs": [
    {
     "data": {
      "text/plain": [
       "8770"
      ]
     },
     "execution_count": 50,
     "metadata": {},
     "output_type": "execute_result"
    }
   ],
   "source": [
    "len(data_df)"
   ]
  },
  {
   "cell_type": "code",
   "execution_count": 51,
   "id": "6b20fe3c-fc98-4828-965a-17d05a323ce1",
   "metadata": {},
   "outputs": [
    {
     "data": {
      "text/plain": [
       "dates              datetime64[ns]\n",
       "SKU                         int64\n",
       "price_per_sku             float64\n",
       "num_purchases               int64\n",
       "Mon_Year           datetime64[ns]\n",
       "month                       int64\n",
       "week_num                   UInt32\n",
       "weekday                     int64\n",
       "quarter                     int64\n",
       "daysinmonth                 int64\n",
       "year                        int64\n",
       "fincode                    object\n",
       "ui1_code                   object\n",
       "ui2_code                   object\n",
       "ui3_code                   object\n",
       "vendor                     object\n",
       "brand_code                 object\n",
       "creation_date              object\n",
       "expiration_date            object\n",
       "discount                  float64\n",
       "dtype: object"
      ]
     },
     "execution_count": 51,
     "metadata": {},
     "output_type": "execute_result"
    }
   ],
   "source": [
    "data_df.dtypes"
   ]
  },
  {
   "cell_type": "code",
   "execution_count": 52,
   "id": "a05e0f78-f804-41e1-b079-bae3a387c02c",
   "metadata": {},
   "outputs": [
    {
     "data": {
      "text/plain": [
       "dates                 0\n",
       "SKU                   0\n",
       "price_per_sku        56\n",
       "num_purchases         0\n",
       "Mon_Year              0\n",
       "month                 0\n",
       "week_num              0\n",
       "weekday               0\n",
       "quarter               0\n",
       "daysinmonth           0\n",
       "year                  0\n",
       "fincode               0\n",
       "ui1_code              0\n",
       "ui2_code              0\n",
       "ui3_code              0\n",
       "vendor                0\n",
       "brand_code            0\n",
       "creation_date         0\n",
       "expiration_date       0\n",
       "discount           8489\n",
       "dtype: int64"
      ]
     },
     "execution_count": 52,
     "metadata": {},
     "output_type": "execute_result"
    }
   ],
   "source": [
    "data_df.isnull().sum()"
   ]
  },
  {
   "cell_type": "code",
   "execution_count": 53,
   "id": "32963e00-1feb-49b0-851a-7d0a0d4f2b90",
   "metadata": {},
   "outputs": [],
   "source": [
    "data_df[['dates','Mon_Year']]=data_df[['dates','Mon_Year']].astype(str)"
   ]
  },
  {
   "cell_type": "code",
   "execution_count": 54,
   "id": "8ed9b7e7-5b3c-44fc-9fbb-285ea7bb5f5d",
   "metadata": {},
   "outputs": [],
   "source": [
    "data_df.dropna(subset=['price_per_sku'],inplace = True)"
   ]
  },
  {
   "cell_type": "code",
   "execution_count": 55,
   "id": "0baf09f4-6a63-46b6-9104-bf7188ffdf79",
   "metadata": {},
   "outputs": [],
   "source": [
    "data_df.discount.fillna(1, inplace = True)"
   ]
  },
  {
   "cell_type": "code",
   "execution_count": 56,
   "id": "ed0cf0a2-1ceb-4c98-96a0-3b708effb96e",
   "metadata": {},
   "outputs": [
    {
     "data": {
      "text/plain": [
       "1.00    8433\n",
       "0.90     140\n",
       "0.95      86\n",
       "0.80      55\n",
       "Name: discount, dtype: int64"
      ]
     },
     "execution_count": 56,
     "metadata": {},
     "output_type": "execute_result"
    }
   ],
   "source": [
    "data_df.discount.value_counts()"
   ]
  },
  {
   "cell_type": "code",
   "execution_count": 57,
   "id": "cd5a58a3-2021-41c7-89e8-509f9de3f6e5",
   "metadata": {
    "tags": []
   },
   "outputs": [],
   "source": [
    "data_df['past_demand'] = data_df.groupby('SKU')['num_purchases'].shift(1)\n",
    "data_df['past_price'] = data_df.groupby('SKU')['price_per_sku'].shift(1)"
   ]
  },
  {
   "cell_type": "markdown",
   "id": "9a78b7bf-265b-4a19-bfc1-eff876462ae0",
   "metadata": {},
   "source": [
    "# train-test split"
   ]
  },
  {
   "cell_type": "markdown",
   "id": "7b42cef5-c655-4b52-a0a0-ff22c91b040c",
   "metadata": {},
   "source": [
    "* Формирую выборки так, чтобы в тренировочный набор попали все представленные 39 SKU. "
   ]
  },
  {
   "cell_type": "code",
   "execution_count": 58,
   "id": "21b1cd24-a752-4219-9b45-b97c0b569041",
   "metadata": {
    "tags": []
   },
   "outputs": [],
   "source": [
    "data_df.dropna(inplace =True)"
   ]
  },
  {
   "cell_type": "code",
   "execution_count": 59,
   "id": "57ed97da-3cc9-492b-83e2-bdc6766cdf99",
   "metadata": {},
   "outputs": [],
   "source": [
    "train_df1=data_df[data_df.dates<'2019-11-01']"
   ]
  },
  {
   "cell_type": "code",
   "execution_count": 60,
   "id": "99a5a921-a5cb-4a59-b369-5c7685317c01",
   "metadata": {},
   "outputs": [
    {
     "data": {
      "text/plain": [
       "(7341, 22)"
      ]
     },
     "execution_count": 60,
     "metadata": {},
     "output_type": "execute_result"
    }
   ],
   "source": [
    "data_df[data_df.dates<'2019-11-01'].shape"
   ]
  },
  {
   "cell_type": "code",
   "execution_count": 61,
   "id": "fe30919d-6846-4c3c-86a4-3b43634b16ed",
   "metadata": {},
   "outputs": [
    {
     "data": {
      "text/plain": [
       "39"
      ]
     },
     "execution_count": 61,
     "metadata": {},
     "output_type": "execute_result"
    }
   ],
   "source": [
    "len(data_df[data_df.dates<'2019-11-01'].SKU.value_counts())"
   ]
  },
  {
   "cell_type": "code",
   "execution_count": 62,
   "id": "a96267c1-a8bc-4cd1-a05b-f91d90ee8433",
   "metadata": {},
   "outputs": [],
   "source": [
    "test_df1=data_df[data_df.dates>='2019-11-01']"
   ]
  },
  {
   "cell_type": "code",
   "execution_count": 63,
   "id": "39441e13-62da-44a3-ac8a-e1b996895e7b",
   "metadata": {},
   "outputs": [
    {
     "data": {
      "text/plain": [
       "(1334, 22)"
      ]
     },
     "execution_count": 63,
     "metadata": {},
     "output_type": "execute_result"
    }
   ],
   "source": [
    "data_df[data_df.dates>='2019-11-01'].shape"
   ]
  },
  {
   "cell_type": "code",
   "execution_count": 64,
   "id": "bf0b0d8c-ac81-4ed7-950d-7b7f40c8408e",
   "metadata": {
    "tags": []
   },
   "outputs": [
    {
     "data": {
      "text/plain": [
       "0.15377521613832854"
      ]
     },
     "execution_count": 64,
     "metadata": {},
     "output_type": "execute_result"
    }
   ],
   "source": [
    "1334/data_df.shape[0]"
   ]
  },
  {
   "cell_type": "code",
   "execution_count": 65,
   "id": "73e3eeb3-f50a-40f3-9266-26af4827d53b",
   "metadata": {},
   "outputs": [
    {
     "data": {
      "text/plain": [
       "31"
      ]
     },
     "execution_count": 65,
     "metadata": {},
     "output_type": "execute_result"
    }
   ],
   "source": [
    "len(data_df[data_df.dates>='2019-11-01'].SKU.value_counts())"
   ]
  },
  {
   "cell_type": "markdown",
   "id": "67989837-4694-4647-be4e-d960352527a3",
   "metadata": {},
   "source": [
    "* Все тестовые SKU есть в тренировочном наборе: "
   ]
  },
  {
   "cell_type": "code",
   "execution_count": 66,
   "id": "efc7ca8e-a90b-45bf-8317-8c6fd8c79062",
   "metadata": {},
   "outputs": [],
   "source": [
    "\n",
    "for i in set(test_df1.SKU):\n",
    "    if i not in set(train_df1.SKU):\n",
    "        print(i)"
   ]
  },
  {
   "cell_type": "markdown",
   "id": "798f717c-0ce7-4eb9-a952-e68c0aadac79",
   "metadata": {},
   "source": [
    "* Разделение на данные и метки"
   ]
  },
  {
   "cell_type": "code",
   "execution_count": 67,
   "id": "a40a1706-e133-44aa-990e-98e29915c1ec",
   "metadata": {},
   "outputs": [],
   "source": [
    "def X_y(train_df1, test_df1, TARGET_COLUMN):\n",
    "    x_columns = train_df1.columns\n",
    "    x_columns = x_columns[x_columns != TARGET_COLUMN]\n",
    "    y_train1 = train_df1[TARGET_COLUMN]\n",
    "    X_train1 = train_df1[x_columns]\n",
    "    y_test1 = test_df1[TARGET_COLUMN]\n",
    "    X_test1 = test_df1[x_columns]\n",
    "    return X_train1, y_train1, X_test1, y_test1"
   ]
  },
  {
   "cell_type": "code",
   "execution_count": 68,
   "id": "f2468b33-7a46-4100-8302-93fcef42f806",
   "metadata": {},
   "outputs": [],
   "source": [
    "\n",
    "X_train1, y_train1, X_test1, y_test1= X_y(train_df1, test_df1,'num_purchases')"
   ]
  },
  {
   "cell_type": "markdown",
   "id": "13e6c4dc-8a5c-4ee2-b608-216b85b59697",
   "metadata": {
    "tags": []
   },
   "source": [
    "# Demand forecast"
   ]
  },
  {
   "cell_type": "markdown",
   "id": "20bb017a-d689-46e8-becd-e49769ca3ab0",
   "metadata": {},
   "source": [
    "## Linear regression"
   ]
  },
  {
   "cell_type": "code",
   "execution_count": 69,
   "id": "06638dea-b7e7-445e-998b-3d969c49f8ef",
   "metadata": {
    "tags": []
   },
   "outputs": [],
   "source": [
    "lin_reg = LinearRegression().fit(X_train1[['price_per_sku','SKU','week_num','weekday','quarter', 'daysinmonth','discount', 'past_demand','past_price']],\n",
    "                                 y_train1)"
   ]
  },
  {
   "cell_type": "code",
   "execution_count": 70,
   "id": "9bfecb64-7720-4255-85a2-dc6f1e98eda6",
   "metadata": {
    "tags": []
   },
   "outputs": [],
   "source": [
    "y_pred_lr_dem = lin_reg.predict(X_test1[['price_per_sku','SKU','week_num','weekday','quarter', 'daysinmonth','discount', 'past_demand','past_price']])"
   ]
  },
  {
   "cell_type": "code",
   "execution_count": 71,
   "id": "84d49c06-115d-4951-984b-b9ff06e9d70e",
   "metadata": {
    "tags": []
   },
   "outputs": [
    {
     "data": {
      "text/plain": [
       "<matplotlib.legend.Legend at 0x24e6a816d90>"
      ]
     },
     "execution_count": 71,
     "metadata": {},
     "output_type": "execute_result"
    },
    {
     "data": {
      "image/png": "[encoded data removed]",
      "text/plain": [
       "<Figure size 640x480 with 1 Axes>"
      ]
     },
     "metadata": {},
     "output_type": "display_data"
    }
   ],
   "source": [
    "plt.plot(range(len(y_test1)), y_test1, label= 'тестовые значения')\n",
    "plt.plot(range(len(y_test1)), np.floor(y_pred_lr_dem), label= 'спрогнозированные значения')\n",
    "plt.grid()\n",
    "plt.legend()"
   ]
  },
  {
   "cell_type": "markdown",
   "id": "c73d5b1c-eb85-43c3-a207-0f019d002a4a",
   "metadata": {},
   "source": [
    "### Metrics LinReg num_purchases"
   ]
  },
  {
   "cell_type": "code",
   "execution_count": 72,
   "id": "693f55fe-c92d-4ff7-8193-866d82d887fb",
   "metadata": {
    "tags": []
   },
   "outputs": [
    {
     "data": {
      "text/plain": [
       "1.1015690811549312"
      ]
     },
     "execution_count": 72,
     "metadata": {},
     "output_type": "execute_result"
    }
   ],
   "source": [
    "mean_squared_error(y_test1, y_pred_lr_dem, squared= False)"
   ]
  },
  {
   "cell_type": "code",
   "execution_count": 73,
   "id": "f3f12f67-dbe1-4cd4-8f77-dcfe0e3b7521",
   "metadata": {
    "tags": []
   },
   "outputs": [
    {
     "data": {
      "text/plain": [
       "0.9018335889197401"
      ]
     },
     "execution_count": 73,
     "metadata": {},
     "output_type": "execute_result"
    }
   ],
   "source": [
    "r2_score(y_test1,  y_pred_lr_dem)"
   ]
  },
  {
   "cell_type": "code",
   "execution_count": 74,
   "id": "e75f0f5b-9234-4ae4-87f0-6c4891c00ea2",
   "metadata": {},
   "outputs": [
    {
     "data": {
      "text/plain": [
       "Index(['dates', 'SKU', 'price_per_sku', 'num_purchases', 'Mon_Year', 'month',\n",
       "       'week_num', 'weekday', 'quarter', 'daysinmonth', 'year', 'fincode',\n",
       "       'ui1_code', 'ui2_code', 'ui3_code', 'vendor', 'brand_code',\n",
       "       'creation_date', 'expiration_date', 'discount', 'past_demand',\n",
       "       'past_price'],\n",
       "      dtype='object')"
      ]
     },
     "execution_count": 74,
     "metadata": {},
     "output_type": "execute_result"
    }
   ],
   "source": [
    "data_df[:-2].dtypes.index"
   ]
  },
  {
   "cell_type": "markdown",
   "id": "bcd523a0-477f-4df1-974f-8e3c8a0d5b93",
   "metadata": {},
   "source": [
    "## CatBoostRegressor"
   ]
  },
  {
   "cell_type": "code",
   "execution_count": 75,
   "id": "b80135cf-1c49-4087-8a04-2df4056aa7b0",
   "metadata": {},
   "outputs": [],
   "source": [
    "model_cb = cb.CatBoostRegressor(cat_features=['dates', 'SKU','Mon_Year', 'month',\n",
    "       'week_num', 'weekday', 'quarter', 'daysinmonth', 'year', 'fincode',\n",
    "       'ui1_code', 'ui2_code', 'ui3_code', 'vendor', 'brand_code',\n",
    "       'creation_date', 'expiration_date'], silent=True)\n",
    "                                     "
   ]
  },
  {
   "cell_type": "code",
   "execution_count": 76,
   "id": "12ec9889-3154-49f3-afe8-96e47ddd420a",
   "metadata": {},
   "outputs": [
    {
     "data": {
      "text/plain": [
       "<catboost.core.CatBoostRegressor at 0x24e6b58f9d0>"
      ]
     },
     "execution_count": 76,
     "metadata": {},
     "output_type": "execute_result"
    }
   ],
   "source": [
    "model_cb.fit(X_train1.iloc[:,:-2], y_train1)"
   ]
  },
  {
   "cell_type": "code",
   "execution_count": 77,
   "id": "a0d7c99c-21dd-4b40-acb2-100ef68dc9e1",
   "metadata": {},
   "outputs": [],
   "source": [
    "y_pred_cb_dem = model_cb.predict(X_test1)"
   ]
  },
  {
   "cell_type": "code",
   "execution_count": 78,
   "id": "d6a755f7-85d8-49c6-ad2f-77d65cdf7a02",
   "metadata": {
    "tags": []
   },
   "outputs": [
    {
     "data": {
      "text/plain": [
       "<matplotlib.legend.Legend at 0x24e6b5a1520>"
      ]
     },
     "execution_count": 78,
     "metadata": {},
     "output_type": "execute_result"
    },
    {
     "data": {
      "image/png": "[encoded data removed]",
      "text/plain": [
       "<Figure size 640x480 with 1 Axes>"
      ]
     },
     "metadata": {},
     "output_type": "display_data"
    }
   ],
   "source": [
    "plt.plot(range(len(y_pred_cb_dem)), y_test1, label= 'тестовые значения')\n",
    "plt.plot(range(len(y_pred_cb_dem)), np.floor(y_pred_cb_dem), label= 'спрогнозированные значения')\n",
    "plt.ylabel('num_purchases')\n",
    "plt.grid()\n",
    "plt.legend()"
   ]
  },
  {
   "cell_type": "markdown",
   "id": "951c3536-4d74-488f-abc8-ee22e4a6a879",
   "metadata": {
    "tags": []
   },
   "source": [
    "### Metrics CatBoostReg num_purchases"
   ]
  },
  {
   "cell_type": "code",
   "execution_count": 79,
   "id": "7cef984e-81e9-4efd-909f-28bcb278bbfe",
   "metadata": {},
   "outputs": [
    {
     "data": {
      "text/plain": [
       "12.361197961738773"
      ]
     },
     "execution_count": 79,
     "metadata": {},
     "output_type": "execute_result"
    }
   ],
   "source": [
    "# baseline\n",
    "mean_squared_error(y_test1, np.full((len(y_test1), 1),y_test1.mean()))"
   ]
  },
  {
   "cell_type": "markdown",
   "id": "b3d7e58d-c7f5-49bb-8983-ab47146dd0d5",
   "metadata": {
    "tags": []
   },
   "source": [
    "* RMSE для тестового набора = 0.99: "
   ]
  },
  {
   "cell_type": "code",
   "execution_count": 80,
   "id": "5d2be0a4-6de4-47ea-9a18-6ee529fc93d5",
   "metadata": {
    "tags": []
   },
   "outputs": [
    {
     "data": {
      "text/plain": [
       "1.1250473315388425"
      ]
     },
     "execution_count": 80,
     "metadata": {},
     "output_type": "execute_result"
    }
   ],
   "source": [
    "mean_squared_error(y_test1, y_pred_cb_dem, squared= False)"
   ]
  },
  {
   "cell_type": "markdown",
   "id": "a488ab56-0211-43c0-bee7-fe3eee240875",
   "metadata": {},
   "source": [
    "Хотя необходимая метрика - это RMSE, также очень важная для понимания качетсва прогноза R2"
   ]
  },
  {
   "cell_type": "code",
   "execution_count": 81,
   "id": "620ffb87-2f09-4414-9f85-d51ff7844455",
   "metadata": {},
   "outputs": [
    {
     "data": {
      "text/plain": [
       "0.8976044634087692"
      ]
     },
     "execution_count": 81,
     "metadata": {},
     "output_type": "execute_result"
    }
   ],
   "source": [
    "r2_score(y_test1, y_pred_cb_dem)"
   ]
  },
  {
   "cell_type": "markdown",
   "id": "44831d63-5c43-429f-b61c-28ae6f40bacc",
   "metadata": {},
   "source": [
    "* Интерпретирую результаты, какие фичи повлияли более всего на прогноз "
   ]
  },
  {
   "cell_type": "code",
   "execution_count": 82,
   "id": "8beb2b28-4b2c-4adb-8dc7-9374a0ab2509",
   "metadata": {
    "tags": []
   },
   "outputs": [],
   "source": [
    "def Interpret(importances,X_test1):\n",
    "    plt.figure(figsize=(10, 5))\n",
    "    for i,v in enumerate(importances):\n",
    "        plt.bar([x for x in X_test1.columns], importances)\n",
    "    plt.title('Интерпретация признаков')\n",
    "    plt.xticks(rotation=90)\n",
    "    plt.show()"
   ]
  },
  {
   "cell_type": "code",
   "execution_count": 83,
   "id": "9abcfb98-cb91-42ca-bd13-b1f29957d79e",
   "metadata": {},
   "outputs": [
    {
     "data": {
      "image/png": "[encoded data removed]",
      "text/plain": [
       "<Figure size 1000x500 with 1 Axes>"
      ]
     },
     "metadata": {},
     "output_type": "display_data"
    }
   ],
   "source": [
    "Interpret(model_cb.feature_importances_, X_test1.iloc[:,:-2])"
   ]
  },
  {
   "cell_type": "markdown",
   "id": "dc57dd4f-e07d-4419-b276-282470ecb8cb",
   "metadata": {},
   "source": [
    "* Почти все фичи за иключением fincode, ui1_code, ui2_code  влияют на прогноз"
   ]
  },
  {
   "cell_type": "markdown",
   "id": "9bd1feb5-a681-41fb-9fde-71a9d46c0c59",
   "metadata": {
    "tags": []
   },
   "source": [
    "### RMSE для каждого SKU"
   ]
  },
  {
   "cell_type": "code",
   "execution_count": 84,
   "id": "1d3df172-6974-494a-8a3b-378bb4770f7e",
   "metadata": {},
   "outputs": [],
   "source": [
    "y_pred_cb_dem = (np.floor(y_pred_cb_dem).astype(int))"
   ]
  },
  {
   "cell_type": "code",
   "execution_count": 85,
   "id": "a7981eb5-914d-4916-940e-86b933504c12",
   "metadata": {
    "tags": []
   },
   "outputs": [],
   "source": [
    "y_pred_lr_dem = (np.floor(y_pred_lr_dem).astype(int))"
   ]
  },
  {
   "cell_type": "code",
   "execution_count": 86,
   "id": "0159f05b-954f-435e-b4d8-c386736b2dad",
   "metadata": {},
   "outputs": [],
   "source": [
    "X=pd.concat([X_test1['SKU'].reset_index(drop=True),\n",
    "             y_test1.reset_index(drop=True),  \n",
    "             pd.Series(y_pred_cb_dem), \n",
    "             pd.Series(y_pred_lr_dem),\n",
    "            X_test1['price_per_sku'].reset_index(drop=True)], axis = 1)"
   ]
  },
  {
   "cell_type": "code",
   "execution_count": 87,
   "id": "03022775-f6ab-42ed-a584-787897854e57",
   "metadata": {},
   "outputs": [],
   "source": [
    "X.rename(columns={0: 'y_pred_num_purches_cb',\n",
    "                 1: 'y_pred_num_purches_lr'}, inplace =True)"
   ]
  },
  {
   "cell_type": "code",
   "execution_count": 88,
   "id": "ff9749fd-60a3-43c5-9fe9-aca5e336e3d7",
   "metadata": {
    "tags": []
   },
   "outputs": [
    {
     "data": {
      "text/html": [
       "<div>\n",
       "<style scoped>\n",
       "    .dataframe tbody tr th:only-of-type {\n",
       "        vertical-align: middle;\n",
       "    }\n",
       "\n",
       "    .dataframe tbody tr th {\n",
       "        vertical-align: top;\n",
       "    }\n",
       "\n",
       "    .dataframe thead th {\n",
       "        text-align: right;\n",
       "    }\n",
       "</style>\n",
       "<table border=\"1\" class=\"dataframe\">\n",
       "  <thead>\n",
       "    <tr style=\"text-align: right;\">\n",
       "      <th></th>\n",
       "      <th>SKU</th>\n",
       "      <th>num_purchases</th>\n",
       "      <th>y_pred_num_purches_cb</th>\n",
       "      <th>y_pred_num_purches_lr</th>\n",
       "      <th>price_per_sku</th>\n",
       "    </tr>\n",
       "  </thead>\n",
       "  <tbody>\n",
       "    <tr>\n",
       "      <th>0</th>\n",
       "      <td>39665</td>\n",
       "      <td>1</td>\n",
       "      <td>1</td>\n",
       "      <td>3</td>\n",
       "      <td>92.975</td>\n",
       "    </tr>\n",
       "    <tr>\n",
       "      <th>1</th>\n",
       "      <td>39665</td>\n",
       "      <td>1</td>\n",
       "      <td>1</td>\n",
       "      <td>1</td>\n",
       "      <td>92.975</td>\n",
       "    </tr>\n",
       "    <tr>\n",
       "      <th>2</th>\n",
       "      <td>39665</td>\n",
       "      <td>2</td>\n",
       "      <td>1</td>\n",
       "      <td>1</td>\n",
       "      <td>92.975</td>\n",
       "    </tr>\n",
       "    <tr>\n",
       "      <th>3</th>\n",
       "      <td>39665</td>\n",
       "      <td>1</td>\n",
       "      <td>2</td>\n",
       "      <td>2</td>\n",
       "      <td>91.064</td>\n",
       "    </tr>\n",
       "    <tr>\n",
       "      <th>4</th>\n",
       "      <td>39665</td>\n",
       "      <td>1</td>\n",
       "      <td>2</td>\n",
       "      <td>1</td>\n",
       "      <td>91.064</td>\n",
       "    </tr>\n",
       "    <tr>\n",
       "      <th>...</th>\n",
       "      <td>...</td>\n",
       "      <td>...</td>\n",
       "      <td>...</td>\n",
       "      <td>...</td>\n",
       "      <td>...</td>\n",
       "    </tr>\n",
       "    <tr>\n",
       "      <th>1329</th>\n",
       "      <td>82947</td>\n",
       "      <td>1</td>\n",
       "      <td>1</td>\n",
       "      <td>2</td>\n",
       "      <td>195.960</td>\n",
       "    </tr>\n",
       "    <tr>\n",
       "      <th>1330</th>\n",
       "      <td>82947</td>\n",
       "      <td>2</td>\n",
       "      <td>1</td>\n",
       "      <td>1</td>\n",
       "      <td>195.460</td>\n",
       "    </tr>\n",
       "    <tr>\n",
       "      <th>1331</th>\n",
       "      <td>82947</td>\n",
       "      <td>1</td>\n",
       "      <td>1</td>\n",
       "      <td>2</td>\n",
       "      <td>195.210</td>\n",
       "    </tr>\n",
       "    <tr>\n",
       "      <th>1332</th>\n",
       "      <td>82947</td>\n",
       "      <td>1</td>\n",
       "      <td>1</td>\n",
       "      <td>1</td>\n",
       "      <td>193.790</td>\n",
       "    </tr>\n",
       "    <tr>\n",
       "      <th>1333</th>\n",
       "      <td>82947</td>\n",
       "      <td>1</td>\n",
       "      <td>1</td>\n",
       "      <td>1</td>\n",
       "      <td>194.780</td>\n",
       "    </tr>\n",
       "  </tbody>\n",
       "</table>\n",
       "<p>1334 rows × 5 columns</p>\n",
       "</div>"
      ],
      "text/plain": [
       "        SKU  num_purchases  y_pred_num_purches_cb  y_pred_num_purches_lr  \\\n",
       "0     39665              1                      1                      3   \n",
       "1     39665              1                      1                      1   \n",
       "2     39665              2                      1                      1   \n",
       "3     39665              1                      2                      2   \n",
       "4     39665              1                      2                      1   \n",
       "...     ...            ...                    ...                    ...   \n",
       "1329  82947              1                      1                      2   \n",
       "1330  82947              2                      1                      1   \n",
       "1331  82947              1                      1                      2   \n",
       "1332  82947              1                      1                      1   \n",
       "1333  82947              1                      1                      1   \n",
       "\n",
       "      price_per_sku  \n",
       "0            92.975  \n",
       "1            92.975  \n",
       "2            92.975  \n",
       "3            91.064  \n",
       "4            91.064  \n",
       "...             ...  \n",
       "1329        195.960  \n",
       "1330        195.460  \n",
       "1331        195.210  \n",
       "1332        193.790  \n",
       "1333        194.780  \n",
       "\n",
       "[1334 rows x 5 columns]"
      ]
     },
     "execution_count": 88,
     "metadata": {},
     "output_type": "execute_result"
    }
   ],
   "source": [
    "X"
   ]
  },
  {
   "cell_type": "code",
   "execution_count": 89,
   "id": "dcb7568f-4422-4ed1-842d-a74a778ae84c",
   "metadata": {},
   "outputs": [],
   "source": [
    "X['rse_cb'] = ((X.y_pred_num_purches_cb - X.num_purchases)**2)**0.5\n",
    "X['rse_lr'] = ((X.y_pred_num_purches_lr - X.num_purchases)**2)**0.5"
   ]
  },
  {
   "cell_type": "code",
   "execution_count": 90,
   "id": "02f6ec6d-e760-4733-97f6-55ed0abdb3c0",
   "metadata": {
    "tags": []
   },
   "outputs": [
    {
     "data": {
      "text/plain": [
       "SKU\n",
       "10334    0.642857\n",
       "11050    0.604651\n",
       "17812    0.850000\n",
       "19632    1.275000\n",
       "27240    0.714286\n",
       "34130    0.565217\n",
       "36096    0.666667\n",
       "36108    0.636364\n",
       "38767    0.777778\n",
       "39665    0.659574\n",
       "40194    0.723404\n",
       "43678    0.895833\n",
       "45164    0.432432\n",
       "48671    0.627907\n",
       "49596    0.700000\n",
       "49661    0.742857\n",
       "54404    0.857143\n",
       "59631    0.711111\n",
       "63995    0.708333\n",
       "64619    0.581395\n",
       "70252    0.659574\n",
       "70315    0.600000\n",
       "72449    0.520833\n",
       "72784    0.914894\n",
       "80308    1.021739\n",
       "80631    0.711111\n",
       "82947    0.384615\n",
       "83329    0.446809\n",
       "84395    1.000000\n",
       "89272    1.068182\n",
       "90611    0.585366\n",
       "Name: rse_cb, dtype: float64"
      ]
     },
     "execution_count": 90,
     "metadata": {},
     "output_type": "execute_result"
    }
   ],
   "source": [
    "#root mean square error для каждого SKU CatBoost\n",
    "X.groupby('SKU').rse_cb.mean()"
   ]
  },
  {
   "cell_type": "code",
   "execution_count": 91,
   "id": "47a702f4-4e50-4ba1-bad3-a3157410d576",
   "metadata": {},
   "outputs": [
    {
     "data": {
      "text/plain": [
       "0.38461538461538464"
      ]
     },
     "execution_count": 91,
     "metadata": {},
     "output_type": "execute_result"
    }
   ],
   "source": [
    "X.groupby('SKU').rse_cb.mean().min()"
   ]
  },
  {
   "cell_type": "code",
   "execution_count": 92,
   "id": "4d072dac-3d76-4dbf-8c73-5b7327d43ed8",
   "metadata": {},
   "outputs": [
    {
     "data": {
      "text/plain": [
       "1.275"
      ]
     },
     "execution_count": 92,
     "metadata": {},
     "output_type": "execute_result"
    }
   ],
   "source": [
    "X.groupby('SKU').rse_cb.mean().max()"
   ]
  },
  {
   "cell_type": "code",
   "execution_count": 93,
   "id": "303400db-dcdc-4301-83e8-c1435e96ba75",
   "metadata": {
    "tags": []
   },
   "outputs": [
    {
     "data": {
      "text/plain": [
       "SKU\n",
       "10334    1.095238\n",
       "11050    1.116279\n",
       "17812    1.150000\n",
       "19632    1.325000\n",
       "27240    0.833333\n",
       "34130    0.717391\n",
       "36096    1.125000\n",
       "36108    0.568182\n",
       "38767    1.155556\n",
       "39665    1.000000\n",
       "40194    0.574468\n",
       "43678    1.125000\n",
       "45164    0.702703\n",
       "48671    0.883721\n",
       "49596    0.800000\n",
       "49661    1.257143\n",
       "54404    1.214286\n",
       "59631    0.622222\n",
       "63995    0.833333\n",
       "64619    0.813953\n",
       "70252    0.914894\n",
       "70315    0.822222\n",
       "72449    0.625000\n",
       "72784    1.191489\n",
       "80308    0.826087\n",
       "80631    0.622222\n",
       "82947    0.384615\n",
       "83329    1.063830\n",
       "84395    1.239130\n",
       "89272    0.795455\n",
       "90611    0.926829\n",
       "Name: rse_lr, dtype: float64"
      ]
     },
     "execution_count": 93,
     "metadata": {},
     "output_type": "execute_result"
    }
   ],
   "source": [
    "#root mean square error для каждого SKU linReg\n",
    "X.groupby('SKU').rse_lr.mean()"
   ]
  },
  {
   "cell_type": "code",
   "execution_count": 94,
   "id": "ab3562c6-ff32-4d77-89f0-a648499efe15",
   "metadata": {
    "tags": []
   },
   "outputs": [
    {
     "data": {
      "text/plain": [
       "0.38461538461538464"
      ]
     },
     "execution_count": 94,
     "metadata": {},
     "output_type": "execute_result"
    }
   ],
   "source": [
    "X.groupby('SKU').rse_lr.mean().min()"
   ]
  },
  {
   "cell_type": "code",
   "execution_count": 95,
   "id": "03d1d0b9-8506-4011-9f2b-e095171fe507",
   "metadata": {
    "tags": []
   },
   "outputs": [
    {
     "data": {
      "text/plain": [
       "1.325"
      ]
     },
     "execution_count": 95,
     "metadata": {},
     "output_type": "execute_result"
    }
   ],
   "source": [
    "X.groupby('SKU').rse_lr.mean().max()"
   ]
  },
  {
   "cell_type": "markdown",
   "id": "b170aa99-c671-491a-89c0-77d0ea90fec9",
   "metadata": {},
   "source": [
    "### Вывод1"
   ]
  },
  {
   "cell_type": "markdown",
   "id": "bfc93031-6ed7-451c-8875-51bc02a565f9",
   "metadata": {},
   "source": [
    "в задаче прогнозирования спроса построены две модели:\n",
    "* linear regression с RMSE для тестового набора = 1.1, baseline rmse = 12.3, R2 = 0.87\n",
    "* CatBoostReg с RMSE для тестового набора = 0.99, baseline rmse = 12.3, R2 = 0.92\n"
   ]
  },
  {
   "cell_type": "markdown",
   "id": "9c16d466-7542-4060-8335-b9802186a4c7",
   "metadata": {},
   "source": [
    "# Linear regression цены от спроса"
   ]
  },
  {
   "cell_type": "markdown",
   "id": "df52a92a-59d4-46f1-9898-7b28c178c4dd",
   "metadata": {},
   "source": [
    "Линейная регрессия — это статистический метод, который помогает нам понять линейную связь между двумя переменными. В контексте прогнозирования спроса это означает определение того, как отдельный фактор (например, цена или расходы на маркетинг) влияет на потребительский спрос."
   ]
  },
  {
   "cell_type": "code",
   "execution_count": 100,
   "id": "dda59b58-5932-4c16-b302-26ced83a4f55",
   "metadata": {
    "tags": []
   },
   "outputs": [],
   "source": [
    "lin_reg1 = LinearRegression().fit(test_df1[['num_purchases','SKU']], test_df1['price_per_sku'])"
   ]
  },
  {
   "cell_type": "code",
   "execution_count": 101,
   "id": "f0de162f-f636-4e63-bbe6-5c1845e65cc8",
   "metadata": {
    "tags": []
   },
   "outputs": [
    {
     "name": "stderr",
     "output_type": "stream",
     "text": [
      "C:\\Users\\darya\\anaconda3\\lib\\site-packages\\sklearn\\base.py:439: UserWarning: X does not have valid feature names, but LinearRegression was fitted with feature names\n",
      "  warnings.warn(\n"
     ]
    }
   ],
   "source": [
    "y_pred_lr=lin_reg1.predict(np.array(test_df1[['num_purchases','SKU']]))"
   ]
  },
  {
   "cell_type": "code",
   "execution_count": 102,
   "id": "c61226c1-ba41-4e1b-b339-26869eaabedd",
   "metadata": {
    "tags": []
   },
   "outputs": [
    {
     "data": {
      "text/plain": [
       "28.865375293930352"
      ]
     },
     "execution_count": 102,
     "metadata": {},
     "output_type": "execute_result"
    }
   ],
   "source": [
    "# Baseline \n",
    "\n",
    "mean_squared_error(X['price_per_sku'], np.full((len(X['price_per_sku']), 1),X['price_per_sku'].mean()), squared= False)"
   ]
  },
  {
   "cell_type": "code",
   "execution_count": 103,
   "id": "31eac437-9525-4284-b6f1-f204b34f3b45",
   "metadata": {
    "tags": []
   },
   "outputs": [
    {
     "data": {
      "text/plain": [
       "28.736160029629676"
      ]
     },
     "execution_count": 103,
     "metadata": {},
     "output_type": "execute_result"
    }
   ],
   "source": [
    "mean_squared_error(X['price_per_sku'], y_pred_lr, squared= False)"
   ]
  },
  {
   "cell_type": "code",
   "execution_count": 104,
   "id": "123374b4-b403-4240-b440-5be18bdd61aa",
   "metadata": {
    "tags": []
   },
   "outputs": [
    {
     "data": {
      "text/plain": [
       "-1024.8565918979828"
      ]
     },
     "execution_count": 104,
     "metadata": {},
     "output_type": "execute_result"
    }
   ],
   "source": [
    "r2_score(y_test1, y_pred_lr)"
   ]
  },
  {
   "cell_type": "markdown",
   "id": "3855febd-802a-4523-a990-4bd0cfd34623",
   "metadata": {},
   "source": [
    "### Вывод2 "
   ]
  },
  {
   "cell_type": "markdown",
   "id": "dafc749e-b159-4566-a460-5d5d6364578c",
   "metadata": {},
   "source": [
    "* Линейная модель хорошо прогнозирует спрос, используя следующие фичи: ['price_per_sku','SKU','week_num','weekday','quarter', 'daysinmonth','discount', 'past_demand','past_price']\n",
    "* но с задачей прогноза цены на основе только одного спроса, не дает результата с требуемой точностью "
   ]
  },
  {
   "cell_type": "markdown",
   "id": "02649f05-38dd-4bcd-9ef0-a561f4eb9bd0",
   "metadata": {
    "tags": []
   },
   "source": [
    "* Использую также кэтбуст и все представленные фичи для прогноза цены"
   ]
  },
  {
   "cell_type": "markdown",
   "id": "64137a19-c5c1-40bd-b2f9-fb7185bf75b8",
   "metadata": {},
   "source": [
    "# Прогноз цены с помощью CATBOOST"
   ]
  },
  {
   "cell_type": "code",
   "execution_count": 105,
   "id": "828f482d-1eb3-49d1-ab4e-ab05ab65f687",
   "metadata": {
    "tags": []
   },
   "outputs": [],
   "source": [
    "X_train2, y_train2, X_test2, y_test2= X_y(train_df1, test_df1,'price_per_sku')"
   ]
  },
  {
   "cell_type": "code",
   "execution_count": 106,
   "id": "757bfaa9-2c1b-4402-b891-49f3d53e3aea",
   "metadata": {
    "tags": []
   },
   "outputs": [
    {
     "data": {
      "text/plain": [
       "Index(['dates', 'SKU', 'num_purchases', 'Mon_Year', 'month', 'week_num',\n",
       "       'weekday', 'quarter', 'daysinmonth', 'year', 'fincode', 'ui1_code',\n",
       "       'ui2_code', 'ui3_code', 'vendor', 'brand_code', 'creation_date',\n",
       "       'expiration_date', 'discount', 'past_demand', 'past_price'],\n",
       "      dtype='object')"
      ]
     },
     "execution_count": 106,
     "metadata": {},
     "output_type": "execute_result"
    }
   ],
   "source": [
    "X_train2.columns"
   ]
  },
  {
   "cell_type": "code",
   "execution_count": 107,
   "id": "7ba6edf9-f8e3-4567-b2f7-b5b483b19a17",
   "metadata": {
    "tags": []
   },
   "outputs": [
    {
     "data": {
      "text/plain": [
       "<catboost.core.CatBoostRegressor at 0x24e79b8e250>"
      ]
     },
     "execution_count": 107,
     "metadata": {},
     "output_type": "execute_result"
    }
   ],
   "source": [
    "model_cb2 = cb.CatBoostRegressor(cat_features=['dates', 'SKU','Mon_Year', 'month',\n",
    "       'week_num', 'weekday', 'quarter', 'daysinmonth', 'year', 'fincode',\n",
    "       'ui1_code', 'ui2_code', 'ui3_code', 'vendor', 'brand_code',\n",
    "       'creation_date', 'expiration_date'], silent=True)\n",
    "model_cb2.fit(X_train2, y_train2)"
   ]
  },
  {
   "cell_type": "code",
   "execution_count": 108,
   "id": "057d092a-5fad-47c3-a198-b1bcd2b7afe2",
   "metadata": {
    "tags": []
   },
   "outputs": [],
   "source": [
    "y_pred_cb_pr = model_cb2.predict(X_test2)"
   ]
  },
  {
   "cell_type": "markdown",
   "id": "9cf91cd2-cff9-4226-b3ac-ab41a76cfd6e",
   "metadata": {},
   "source": [
    "* Получаю rmse ~2.5, что соответсвует условию задачи (rmse < 10)"
   ]
  },
  {
   "cell_type": "code",
   "execution_count": 109,
   "id": "4e323fc0-774d-4170-bf91-028879fe4358",
   "metadata": {
    "tags": []
   },
   "outputs": [
    {
     "data": {
      "text/plain": [
       "2.425768666628588"
      ]
     },
     "execution_count": 109,
     "metadata": {},
     "output_type": "execute_result"
    }
   ],
   "source": [
    "mean_squared_error(y_test2, y_pred_cb_pr, squared= False)"
   ]
  },
  {
   "cell_type": "code",
   "execution_count": 110,
   "id": "48165891-3641-4e90-ad37-143baafe5d1a",
   "metadata": {
    "tags": []
   },
   "outputs": [
    {
     "data": {
      "text/plain": [
       "0.992937729510235"
      ]
     },
     "execution_count": 110,
     "metadata": {},
     "output_type": "execute_result"
    }
   ],
   "source": [
    "r2_score(y_test2, y_pred_cb_pr)"
   ]
  },
  {
   "cell_type": "code",
   "execution_count": 111,
   "id": "f6ac06f6-8ebb-4cc0-93bc-e62a2fb6af5b",
   "metadata": {
    "tags": []
   },
   "outputs": [],
   "source": [
    "y_pred_cb_pr = (np.floor(y_pred_cb_pr).astype(int))"
   ]
  },
  {
   "cell_type": "code",
   "execution_count": 122,
   "id": "6d821710-1a75-443b-be16-33cf10eb6cd2",
   "metadata": {
    "tags": []
   },
   "outputs": [],
   "source": [
    "X_pr=pd.concat([X_test2['dates'].reset_index(drop=True),\n",
    "    X_test2['SKU'].reset_index(drop=True),\n",
    "             y_test2.reset_index(drop=True),  \n",
    "             pd.Series(y_pred_cb_pr), \n",
    "            X_test2['num_purchases'].reset_index(drop=True)], axis = 1)"
   ]
  },
  {
   "cell_type": "code",
   "execution_count": 123,
   "id": "b70f5b70-7046-4170-bbf9-8388129c35c8",
   "metadata": {
    "tags": []
   },
   "outputs": [],
   "source": [
    "X_pr.rename(columns={0: 'y_pred_prices_cb',\n",
    "                 }, inplace =True)"
   ]
  },
  {
   "cell_type": "code",
   "execution_count": 124,
   "id": "89bae2ef-29f8-4a57-98ce-b2a79e4f4d94",
   "metadata": {},
   "outputs": [
    {
     "data": {
      "text/html": [
       "<div>\n",
       "<style scoped>\n",
       "    .dataframe tbody tr th:only-of-type {\n",
       "        vertical-align: middle;\n",
       "    }\n",
       "\n",
       "    .dataframe tbody tr th {\n",
       "        vertical-align: top;\n",
       "    }\n",
       "\n",
       "    .dataframe thead th {\n",
       "        text-align: right;\n",
       "    }\n",
       "</style>\n",
       "<table border=\"1\" class=\"dataframe\">\n",
       "  <thead>\n",
       "    <tr style=\"text-align: right;\">\n",
       "      <th></th>\n",
       "      <th>dates</th>\n",
       "      <th>SKU</th>\n",
       "      <th>price_per_sku</th>\n",
       "      <th>y_pred_prices_cb</th>\n",
       "      <th>num_purchases</th>\n",
       "    </tr>\n",
       "  </thead>\n",
       "  <tbody>\n",
       "    <tr>\n",
       "      <th>0</th>\n",
       "      <td>2019-11-01</td>\n",
       "      <td>39665</td>\n",
       "      <td>92.975</td>\n",
       "      <td>91</td>\n",
       "      <td>1</td>\n",
       "    </tr>\n",
       "    <tr>\n",
       "      <th>1</th>\n",
       "      <td>2019-11-02</td>\n",
       "      <td>39665</td>\n",
       "      <td>92.975</td>\n",
       "      <td>91</td>\n",
       "      <td>1</td>\n",
       "    </tr>\n",
       "    <tr>\n",
       "      <th>2</th>\n",
       "      <td>2019-11-03</td>\n",
       "      <td>39665</td>\n",
       "      <td>92.975</td>\n",
       "      <td>91</td>\n",
       "      <td>2</td>\n",
       "    </tr>\n",
       "    <tr>\n",
       "      <th>3</th>\n",
       "      <td>2019-11-05</td>\n",
       "      <td>39665</td>\n",
       "      <td>91.064</td>\n",
       "      <td>91</td>\n",
       "      <td>1</td>\n",
       "    </tr>\n",
       "    <tr>\n",
       "      <th>4</th>\n",
       "      <td>2019-11-06</td>\n",
       "      <td>39665</td>\n",
       "      <td>91.064</td>\n",
       "      <td>89</td>\n",
       "      <td>1</td>\n",
       "    </tr>\n",
       "    <tr>\n",
       "      <th>...</th>\n",
       "      <td>...</td>\n",
       "      <td>...</td>\n",
       "      <td>...</td>\n",
       "      <td>...</td>\n",
       "      <td>...</td>\n",
       "    </tr>\n",
       "    <tr>\n",
       "      <th>1329</th>\n",
       "      <td>2019-12-21</td>\n",
       "      <td>82947</td>\n",
       "      <td>195.960</td>\n",
       "      <td>206</td>\n",
       "      <td>1</td>\n",
       "    </tr>\n",
       "    <tr>\n",
       "      <th>1330</th>\n",
       "      <td>2019-12-24</td>\n",
       "      <td>82947</td>\n",
       "      <td>195.460</td>\n",
       "      <td>206</td>\n",
       "      <td>2</td>\n",
       "    </tr>\n",
       "    <tr>\n",
       "      <th>1331</th>\n",
       "      <td>2019-12-25</td>\n",
       "      <td>82947</td>\n",
       "      <td>195.210</td>\n",
       "      <td>206</td>\n",
       "      <td>1</td>\n",
       "    </tr>\n",
       "    <tr>\n",
       "      <th>1332</th>\n",
       "      <td>2019-12-26</td>\n",
       "      <td>82947</td>\n",
       "      <td>193.790</td>\n",
       "      <td>206</td>\n",
       "      <td>1</td>\n",
       "    </tr>\n",
       "    <tr>\n",
       "      <th>1333</th>\n",
       "      <td>2019-12-28</td>\n",
       "      <td>82947</td>\n",
       "      <td>194.780</td>\n",
       "      <td>206</td>\n",
       "      <td>1</td>\n",
       "    </tr>\n",
       "  </tbody>\n",
       "</table>\n",
       "<p>1334 rows × 5 columns</p>\n",
       "</div>"
      ],
      "text/plain": [
       "           dates    SKU  price_per_sku  y_pred_prices_cb  num_purchases\n",
       "0     2019-11-01  39665         92.975                91              1\n",
       "1     2019-11-02  39665         92.975                91              1\n",
       "2     2019-11-03  39665         92.975                91              2\n",
       "3     2019-11-05  39665         91.064                91              1\n",
       "4     2019-11-06  39665         91.064                89              1\n",
       "...          ...    ...            ...               ...            ...\n",
       "1329  2019-12-21  82947        195.960               206              1\n",
       "1330  2019-12-24  82947        195.460               206              2\n",
       "1331  2019-12-25  82947        195.210               206              1\n",
       "1332  2019-12-26  82947        193.790               206              1\n",
       "1333  2019-12-28  82947        194.780               206              1\n",
       "\n",
       "[1334 rows x 5 columns]"
      ]
     },
     "execution_count": 124,
     "metadata": {},
     "output_type": "execute_result"
    }
   ],
   "source": [
    "X_pr"
   ]
  },
  {
   "cell_type": "code",
   "execution_count": 115,
   "id": "7c9be1a4-331c-47e8-8373-a0472ece570b",
   "metadata": {
    "tags": []
   },
   "outputs": [],
   "source": [
    "X_pr['rmse'] = ((X_pr.y_pred_prices_cb - X_pr.price_per_sku)**2)**0.5"
   ]
  },
  {
   "cell_type": "code",
   "execution_count": 116,
   "id": "af041e7d-62cc-4e03-bbff-4a307ccdbd85",
   "metadata": {
    "tags": []
   },
   "outputs": [
    {
     "data": {
      "text/plain": [
       "SKU\n",
       "10334    3.074281\n",
       "11050    3.193349\n",
       "17812    2.740515\n",
       "19632    2.011650\n",
       "27240    0.725357\n",
       "34130    2.823000\n",
       "36096    1.133300\n",
       "36108    2.188591\n",
       "38767    2.778400\n",
       "39665    2.501383\n",
       "40194    1.781340\n",
       "43678    2.240708\n",
       "45164    2.498108\n",
       "48671    2.610256\n",
       "49596    1.480550\n",
       "49661    4.248457\n",
       "54404    2.645786\n",
       "59631    2.618800\n",
       "63995    1.934938\n",
       "64619    1.902209\n",
       "70252    1.852255\n",
       "70315    2.733489\n",
       "72449    2.769396\n",
       "72784    1.818723\n",
       "80308    1.605522\n",
       "80631    3.295689\n",
       "82947    7.300769\n",
       "83329    2.602798\n",
       "84395    2.782370\n",
       "89272    2.826045\n",
       "90611    3.564351\n",
       "Name: rmse, dtype: float64"
      ]
     },
     "execution_count": 116,
     "metadata": {},
     "output_type": "execute_result"
    }
   ],
   "source": [
    "#root mean square error для каждого SKU\n",
    "X_pr.groupby('SKU').rmse.mean()"
   ]
  },
  {
   "cell_type": "code",
   "execution_count": 117,
   "id": "b8c9fc9a-2685-4225-b527-2d6fbca46b78",
   "metadata": {
    "tags": []
   },
   "outputs": [
    {
     "data": {
      "text/plain": [
       "0.7253571428571419"
      ]
     },
     "execution_count": 117,
     "metadata": {},
     "output_type": "execute_result"
    }
   ],
   "source": [
    "X_pr.groupby('SKU').rmse.mean().min()"
   ]
  },
  {
   "cell_type": "code",
   "execution_count": 118,
   "id": "10fd839d-fe67-426b-8cf6-450dbbc05c88",
   "metadata": {
    "tags": []
   },
   "outputs": [
    {
     "data": {
      "text/plain": [
       "7.30076923076923"
      ]
     },
     "execution_count": 118,
     "metadata": {},
     "output_type": "execute_result"
    }
   ],
   "source": [
    "X_pr.groupby('SKU').rmse.mean().max()"
   ]
  },
  {
   "cell_type": "code",
   "execution_count": 119,
   "id": "3f88e204-737c-49a2-8a52-155c1c38c56a",
   "metadata": {},
   "outputs": [
    {
     "data": {
      "text/plain": [
       "Text(0.5, 1.0, 'Спрогнозированная и реальная цена по каждому из SKU')"
      ]
     },
     "execution_count": 119,
     "metadata": {},
     "output_type": "execute_result"
    },
    {
     "data": {
      "image/png": "[encoded data removed]",
      "text/plain": [
       "<Figure size 640x480 with 1 Axes>"
      ]
     },
     "metadata": {},
     "output_type": "display_data"
    }
   ],
   "source": [
    "sns.lineplot(data = X_pr, y='price_per_sku',x='num_purchases', hue = 'SKU', palette=\"flare\", marker = '*')\n",
    "sns.lineplot(data = X_pr, y='y_pred_prices_cb',x='num_purchases', hue = 'SKU', marker = 'x' )\n",
    "plt.title('Спрогнозированная и реальная цена по каждому из SKU')"
   ]
  },
  {
   "cell_type": "code",
   "execution_count": 120,
   "id": "09788c3f-f95b-43e6-b516-e152c9e30e68",
   "metadata": {
    "tags": []
   },
   "outputs": [
    {
     "data": {
      "text/plain": [
       "<matplotlib.legend.Legend at 0x24e7a9341f0>"
      ]
     },
     "execution_count": 120,
     "metadata": {},
     "output_type": "execute_result"
    },
    {
     "data": {
      "image/png": "[encoded data removed]",
      "text/plain": [
       "<Figure size 640x480 with 1 Axes>"
      ]
     },
     "metadata": {},
     "output_type": "display_data"
    }
   ],
   "source": [
    "plt.plot(range(len(y_test2)), y_pred_cb_pr, label= 'спрогнозированные значения')\n",
    "plt.plot(range(len(y_test2)),y_test2, label= 'тестовые значения')\n",
    "plt.grid()\n",
    "plt.legend()"
   ]
  },
  {
   "cell_type": "markdown",
   "id": "08e0c05d-2a3c-4298-af22-68bc3d31bc0f",
   "metadata": {
    "tags": []
   },
   "source": [
    "* Интерпретация результата"
   ]
  },
  {
   "cell_type": "code",
   "execution_count": 121,
   "id": "67e4aaa2-342e-4a04-b01f-c7fd416e7f6e",
   "metadata": {},
   "outputs": [
    {
     "data": {
      "image/png": "[encoded data removed]",
      "text/plain": [
       "<Figure size 1000x500 with 1 Axes>"
      ]
     },
     "metadata": {},
     "output_type": "display_data"
    }
   ],
   "source": [
    "Interpret(model_cb2.feature_importances_, X_test2)"
   ]
  },
  {
   "cell_type": "markdown",
   "id": "35687b41-2cd2-4c06-ac7e-52e228353fa3",
   "metadata": {},
   "source": [
    "### Вывод 3"
   ]
  },
  {
   "cell_type": "markdown",
   "id": "27294368-a62f-4569-a86b-897a5a92fa46",
   "metadata": {},
   "source": [
    "* Метрики прогноза цены R2 = 0.992, RMSE = 2.42"
   ]
  },
  {
   "cell_type": "markdown",
   "id": "5e0e488e-e3af-482c-9433-979df0aa3468",
   "metadata": {},
   "source": [
    "* Из интерпретации можно сказать, что только значения предыдущей цены вносят огромный вклад в прогноcтичность модели"
   ]
  },
  {
   "cell_type": "code",
   "execution_count": 130,
   "id": "fdce6327-70d6-4002-860c-b2445063794f",
   "metadata": {},
   "outputs": [],
   "source": [
    "X_pr[['dates','SKU','y_pred_prices_cb']].to_csv('prediction.csv', index = False)"
   ]
  },
  {
   "cell_type": "code",
   "execution_count": 131,
   "id": "0153d9b3-824e-446d-a4ea-4feb078a3e6e",
   "metadata": {},
   "outputs": [
    {
     "data": {
      "text/html": [
       "<div>\n",
       "<style scoped>\n",
       "    .dataframe tbody tr th:only-of-type {\n",
       "        vertical-align: middle;\n",
       "    }\n",
       "\n",
       "    .dataframe tbody tr th {\n",
       "        vertical-align: top;\n",
       "    }\n",
       "\n",
       "    .dataframe thead th {\n",
       "        text-align: right;\n",
       "    }\n",
       "</style>\n",
       "<table border=\"1\" class=\"dataframe\">\n",
       "  <thead>\n",
       "    <tr style=\"text-align: right;\">\n",
       "      <th></th>\n",
       "      <th>dates</th>\n",
       "      <th>SKU</th>\n",
       "      <th>y_pred_prices_cb</th>\n",
       "    </tr>\n",
       "  </thead>\n",
       "  <tbody>\n",
       "    <tr>\n",
       "      <th>0</th>\n",
       "      <td>2019-11-01</td>\n",
       "      <td>39665</td>\n",
       "      <td>91</td>\n",
       "    </tr>\n",
       "    <tr>\n",
       "      <th>1</th>\n",
       "      <td>2019-11-02</td>\n",
       "      <td>39665</td>\n",
       "      <td>91</td>\n",
       "    </tr>\n",
       "    <tr>\n",
       "      <th>2</th>\n",
       "      <td>2019-11-03</td>\n",
       "      <td>39665</td>\n",
       "      <td>91</td>\n",
       "    </tr>\n",
       "    <tr>\n",
       "      <th>3</th>\n",
       "      <td>2019-11-05</td>\n",
       "      <td>39665</td>\n",
       "      <td>91</td>\n",
       "    </tr>\n",
       "    <tr>\n",
       "      <th>4</th>\n",
       "      <td>2019-11-06</td>\n",
       "      <td>39665</td>\n",
       "      <td>89</td>\n",
       "    </tr>\n",
       "    <tr>\n",
       "      <th>...</th>\n",
       "      <td>...</td>\n",
       "      <td>...</td>\n",
       "      <td>...</td>\n",
       "    </tr>\n",
       "    <tr>\n",
       "      <th>1329</th>\n",
       "      <td>2019-12-21</td>\n",
       "      <td>82947</td>\n",
       "      <td>206</td>\n",
       "    </tr>\n",
       "    <tr>\n",
       "      <th>1330</th>\n",
       "      <td>2019-12-24</td>\n",
       "      <td>82947</td>\n",
       "      <td>206</td>\n",
       "    </tr>\n",
       "    <tr>\n",
       "      <th>1331</th>\n",
       "      <td>2019-12-25</td>\n",
       "      <td>82947</td>\n",
       "      <td>206</td>\n",
       "    </tr>\n",
       "    <tr>\n",
       "      <th>1332</th>\n",
       "      <td>2019-12-26</td>\n",
       "      <td>82947</td>\n",
       "      <td>206</td>\n",
       "    </tr>\n",
       "    <tr>\n",
       "      <th>1333</th>\n",
       "      <td>2019-12-28</td>\n",
       "      <td>82947</td>\n",
       "      <td>206</td>\n",
       "    </tr>\n",
       "  </tbody>\n",
       "</table>\n",
       "<p>1334 rows × 3 columns</p>\n",
       "</div>"
      ],
      "text/plain": [
       "           dates    SKU  y_pred_prices_cb\n",
       "0     2019-11-01  39665                91\n",
       "1     2019-11-02  39665                91\n",
       "2     2019-11-03  39665                91\n",
       "3     2019-11-05  39665                91\n",
       "4     2019-11-06  39665                89\n",
       "...          ...    ...               ...\n",
       "1329  2019-12-21  82947               206\n",
       "1330  2019-12-24  82947               206\n",
       "1331  2019-12-25  82947               206\n",
       "1332  2019-12-26  82947               206\n",
       "1333  2019-12-28  82947               206\n",
       "\n",
       "[1334 rows x 3 columns]"
      ]
     },
     "execution_count": 131,
     "metadata": {},
     "output_type": "execute_result"
    }
   ],
   "source": [
    " pd.read_csv('prediction.csv')"
   ]
  }
 ],
 "metadata": {
  "kernelspec": {
   "display_name": "Python 3 (ipykernel)",
   "language": "python",
   "name": "python3"
  },
  "language_info": {
   "codemirror_mode": {
    "name": "ipython",
    "version": 3
   },
   "file_extension": ".py",
   "mimetype": "text/x-python",
   "name": "python",
   "nbconvert_exporter": "python",
   "pygments_lexer": "ipython3",
   "version": "3.8.11"
  },
  "toc-autonumbering": true
 },
 "nbformat": 4,
 "nbformat_minor": 5
}
